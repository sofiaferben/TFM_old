{
 "cells": [
  {
   "cell_type": "markdown",
   "id": "d8d76e01-592f-4ca6-abf3-15e536600a04",
   "metadata": {},
   "source": [
    "# Drug Combination Benchmark Group  \n",
    "https://tdcommons.ai/start/\n",
    "vamos a conseguir el dataset y de ahi ver si tienen información de la enfermedad"
   ]
  },
  {
   "cell_type": "code",
   "execution_count": 2,
   "id": "d442d3e3-2bea-4675-b12d-4f2b7c7c8c83",
   "metadata": {},
   "outputs": [
    {
     "ename": "ModuleNotFoundError",
     "evalue": "No module named 'tdc'",
     "output_type": "error",
     "traceback": [
      "\u001b[1;31m---------------------------------------------------------------------------\u001b[0m",
      "\u001b[1;31mModuleNotFoundError\u001b[0m                       Traceback (most recent call last)",
      "Cell \u001b[1;32mIn[2], line 1\u001b[0m\n\u001b[1;32m----> 1\u001b[0m \u001b[38;5;28;01mfrom\u001b[39;00m \u001b[38;5;21;01mtdc\u001b[39;00m\u001b[38;5;21;01m.\u001b[39;00m\u001b[38;5;21;01mmulti_pred\u001b[39;00m \u001b[38;5;28;01mimport\u001b[39;00m DDI\n\u001b[0;32m      2\u001b[0m data \u001b[38;5;241m=\u001b[39m DDI(name \u001b[38;5;241m=\u001b[39m \u001b[38;5;124m'\u001b[39m\u001b[38;5;124mDrugBank\u001b[39m\u001b[38;5;124m'\u001b[39m)\n\u001b[0;32m      3\u001b[0m split \u001b[38;5;241m=\u001b[39m data\u001b[38;5;241m.\u001b[39mget_split()\n",
      "\u001b[1;31mModuleNotFoundError\u001b[0m: No module named 'tdc'"
     ]
    }
   ],
   "source": [
    "from tdc.multi_pred import DDI\n",
    "data = DDI(name = 'DrugBank')\n",
    "split = data.get_split()"
   ]
  },
  {
   "cell_type": "code",
   "execution_count": null,
   "id": "5504bab3-6a6f-48b2-b473-0a580c2829c4",
   "metadata": {},
   "outputs": [],
   "source": []
  }
 ],
 "metadata": {
  "kernelspec": {
   "display_name": "Python 3 (ipykernel)",
   "language": "python",
   "name": "python3"
  },
  "language_info": {
   "codemirror_mode": {
    "name": "ipython",
    "version": 3
   },
   "file_extension": ".py",
   "mimetype": "text/x-python",
   "name": "python",
   "nbconvert_exporter": "python",
   "pygments_lexer": "ipython3",
   "version": "3.9.21"
  }
 },
 "nbformat": 4,
 "nbformat_minor": 5
}
