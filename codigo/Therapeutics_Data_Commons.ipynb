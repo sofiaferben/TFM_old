{
 "cells": [
  {
   "cell_type": "markdown",
   "metadata": {
    "id": "SBk6n4m1RuGd"
   },
   "source": [
    "# Drug-Target Interaction Prediction Task Overview\n",
    "\n",
    "https://tdcommons.ai/multi_pred_tasks/dti\n"
   ]
  },
  {
   "cell_type": "code",
   "execution_count": 4,
   "metadata": {
    "executionInfo": {
     "elapsed": 23,
     "status": "ok",
     "timestamp": 1740674574204,
     "user": {
      "displayName": "sofia fb",
      "userId": "02081027144009403775"
     },
     "user_tz": -60
    },
    "id": "Lk9-T9iVQKb1"
   },
   "outputs": [],
   "source": [
    "#!pip install PyTDC"
   ]
  },
  {
   "cell_type": "code",
   "execution_count": 1,
   "metadata": {
    "colab": {
     "base_uri": "https://localhost:8080/"
    },
    "executionInfo": {
     "elapsed": 16787,
     "status": "ok",
     "timestamp": 1740674296131,
     "user": {
      "displayName": "sofia fb",
      "userId": "02081027144009403775"
     },
     "user_tz": -60
    },
    "id": "xaQD9AUkQXkf",
    "outputId": "7f0fca58-7139-4450-c741-c2a3be980218"
   },
   "outputs": [
    {
     "ename": "ModuleNotFoundError",
     "evalue": "No module named 'tdc'",
     "output_type": "error",
     "traceback": [
      "\u001b[1;31m---------------------------------------------------------------------------\u001b[0m",
      "\u001b[1;31mModuleNotFoundError\u001b[0m                       Traceback (most recent call last)",
      "Cell \u001b[1;32mIn[1], line 1\u001b[0m\n\u001b[1;32m----> 1\u001b[0m \u001b[38;5;28;01mfrom\u001b[39;00m \u001b[38;5;21;01mtdc\u001b[39;00m\u001b[38;5;21;01m.\u001b[39;00m\u001b[38;5;21;01mmulti_pred\u001b[39;00m \u001b[38;5;28;01mimport\u001b[39;00m DTI\n\u001b[0;32m      2\u001b[0m data \u001b[38;5;241m=\u001b[39m DTI(name \u001b[38;5;241m=\u001b[39m \u001b[38;5;124m'\u001b[39m\u001b[38;5;124mBindingDB_Kd\u001b[39m\u001b[38;5;124m'\u001b[39m)\n\u001b[0;32m      3\u001b[0m \u001b[38;5;66;03m# data = DTI(name = 'BindingDB_IC50')\u001b[39;00m\n\u001b[0;32m      4\u001b[0m \u001b[38;5;66;03m# data = DTI(name = 'BindingDB_Ki')\u001b[39;00m\n",
      "\u001b[1;31mModuleNotFoundError\u001b[0m: No module named 'tdc'"
     ]
    }
   ],
   "source": [
    "from tdc.multi_pred import DTI\n",
    "data = DTI(name = 'BindingDB_Kd')\n",
    "# data = DTI(name = 'BindingDB_IC50')\n",
    "# data = DTI(name = 'BindingDB_Ki')\n",
    "split = data.get_split()"
   ]
  },
  {
   "cell_type": "code",
   "execution_count": 3,
   "metadata": {
    "colab": {
     "base_uri": "https://localhost:8080/"
    },
    "executionInfo": {
     "elapsed": 8,
     "status": "ok",
     "timestamp": 1740674564443,
     "user": {
      "displayName": "sofia fb",
      "userId": "02081027144009403775"
     },
     "user_tz": -60
    },
    "id": "ZgwETyRBSao4",
    "outputId": "79628ff8-cf63-44d9-ff7b-ba990755951d"
   },
   "outputs": [
    {
     "data": {
      "text/plain": [
       "dict"
      ]
     },
     "execution_count": 3,
     "metadata": {},
     "output_type": "execute_result"
    }
   ],
   "source": [
    "type(split)\n",
    "\n"
   ]
  },
  {
   "cell_type": "code",
   "execution_count": 6,
   "metadata": {
    "colab": {
     "base_uri": "https://localhost:8080/"
    },
    "executionInfo": {
     "elapsed": 29,
     "status": "ok",
     "timestamp": 1740674609091,
     "user": {
      "displayName": "sofia fb",
      "userId": "02081027144009403775"
     },
     "user_tz": -60
    },
    "id": "cOWTFMriScmg",
    "outputId": "0bccace7-6a74-4519-a89b-fec984fa5cf4"
   },
   "outputs": [
    {
     "data": {
      "text/plain": [
       "dict_keys(['train', 'valid', 'test'])"
      ]
     },
     "execution_count": 6,
     "metadata": {},
     "output_type": "execute_result"
    }
   ],
   "source": [
    "split.keys()"
   ]
  },
  {
   "cell_type": "code",
   "execution_count": 7,
   "metadata": {
    "colab": {
     "base_uri": "https://localhost:8080/"
    },
    "executionInfo": {
     "elapsed": 63,
     "status": "ok",
     "timestamp": 1740674621204,
     "user": {
      "displayName": "sofia fb",
      "userId": "02081027144009403775"
     },
     "user_tz": -60
    },
    "id": "faRnRj4cSpMH",
    "outputId": "783dbb35-8cd1-4d67-cdc3-77d5a2053440"
   },
   "outputs": [
    {
     "data": {
      "text/plain": [
       "{'train':           Drug_ID                                               Drug  \\\n",
       " 0        444607.0          Cc1ccc(CNS(=O)(=O)c2ccc(S(N)(=O)=O)s2)cc1   \n",
       " 1          4316.0         COc1ccc(CNS(=O)(=O)c2ccc(S(N)(=O)=O)s2)cc1   \n",
       " 2          4293.0              NS(=O)(=O)c1ccc(S(=O)(=O)NCc2cccs2)s1   \n",
       " 3       4369102.0     CCN[C@H]1CN(CCOC)S(=O)(=O)c2sc(S(N)(=O)=O)cc21   \n",
       " 4       3013848.0  CN[C@H]1CN(c2cccc(OC)c2)S(=O)(=O)c2sc(S(N)(=O)...   \n",
       " ...           ...                                                ...   \n",
       " 36587  53358942.0  COc1cc(C(=O)O)ccc1NC(=O)[C@@H]1N[C@@H](CC(C)(C...   \n",
       " 36588  53476877.0  CC(C)(C)C[C@@H]1N[C@@H](C(=O)N[C@H]2CC[C@H](O)...   \n",
       " 36589  58573469.0  CC(C)[C@@H](CS(=O)(=O)C(C)C)N1C(=O)[C@@](C)(CC...   \n",
       " 36590    113557.0                        CCCCCCCOC1OC(CO)C(O)C(O)C1O   \n",
       " 36591    113557.0                        CCCCCCCOC1OC(CO)C(O)C(O)C1O   \n",
       " \n",
       "       Target_ID                                             Target       Y  \n",
       " 0        P00918  MSHHWGYGKHNGPEHWHKDFPIAKGERQSPVDIDTHTAKYDPSLKP...   0.460  \n",
       " 1        P00918  MSHHWGYGKHNGPEHWHKDFPIAKGERQSPVDIDTHTAKYDPSLKP...   0.490  \n",
       " 2        P00918  MSHHWGYGKHNGPEHWHKDFPIAKGERQSPVDIDTHTAKYDPSLKP...   0.830  \n",
       " 3        P00918  MSHHWGYGKHNGPEHWHKDFPIAKGERQSPVDIDTHTAKYDPSLKP...   0.320  \n",
       " 4        P00918  MSHHWGYGKHNGPEHWHKDFPIAKGERQSPVDIDTHTAKYDPSLKP...   0.100  \n",
       " ...         ...                                                ...     ...  \n",
       " 36587       NaN  MCNTNMSVPTDGAVTTSQIPASEQETLVRPKPLLLKLLKSVGAQKD...   0.150  \n",
       " 36588       NaN  MCNTNMSVPTDGAVTTSQIPASEQETLVRPKPLLLKLLKSVGAQKD...   2.700  \n",
       " 36589       NaN  MCNTNMSVPTDGAVTTSQIPASEQETLVRPKPLLLKLLKSVGAQKD...   0.045  \n",
       " 36590    P08191  MKRVITLFAVLLMGWSVNAWSFACKTANGTAIPIGGGSANVYVNLA...  17.000  \n",
       " 36591    P08191  MKRVITLFAVLLMGWSVNAWSFACKTANGTAIPIGGGSANVYVNLA...  19.000  \n",
       " \n",
       " [36592 rows x 5 columns],\n",
       " 'valid':          Drug_ID                                               Drug Target_ID  \\\n",
       " 0      5287969.0  CN1CC[C@H](c2c(O)cc(O)c3c(=O)cc(-c4ccccc4Cl)oc...    Q15303   \n",
       " 1     11314340.0  Cc1n[nH]c2ccc(-c3cncc(OC[C@@H](N)Cc4ccccc4)c3)...    Q04759   \n",
       " 2     15462117.0      CN(C)C[C@@H](c1ccc2ccccc2c1)[C@@H](O)C(C)(C)C    P23975   \n",
       " 3      3038525.0     O=c1ncn2nc(Sc3ccc(F)cc3F)ccc2c1-c1c(Cl)cccc1Cl    P15056   \n",
       " 4       153999.0  CN(C)C[C@@H]1CCn2cc(c3ccccc32)C2=C(C(=O)NC2=O)...    P42680   \n",
       " ...          ...                                                ...       ...   \n",
       " 5222  44588157.0  CO[C@@H]1O[C@H](CO)[C@@H](O[C@@H]2O[C@H](CO)[C...    P47929   \n",
       " 5223  24905147.0        CC(C)n1nc(-c2cc3cc(O)ccc3[nH]2)c2c(N)ncnc21    Q9UBF8   \n",
       " 5224   5353940.0    Oc1ccc(-c2nc(-c3ccncc3)c(-c3ccc(F)cc3)[nH]2)cc1    Q59H18   \n",
       " 5225    156422.0  Cc1ccc(-n2nc(C(C)(C)C)cc2NC(=O)Nc2ccc(OCCN3CCO...    Q9UKE5   \n",
       " 5226  11500877.0         N#CC1=C2C(=NC1=O)c1cccc3c(N4CCSCC4)ccc2c13       NaN   \n",
       " \n",
       "                                                  Target        Y  \n",
       " 0     MKPATGLWVWVSLLVAAGTVQPSDSQSVCAGTENKLSSLSDLEQQY...   5000.0  \n",
       " 1     MSPFLRIGLSNFDCGSCQSCQGEAVNPYCAVLVKEYVESENGQMYI...     12.0  \n",
       " 2     MLLARMNPQVQPENNGADTGPEQPLRARKTAELLVVKERNGVQCLL...     30.0  \n",
       " 3     MAALSGGGGGGAEPGQALFNGDMEPEAGAGAGAAASSAADPAIPEE...      1.0  \n",
       " 4     MNFNTILEEILIKRSQQKKKTSPLNYKERLFVLTKSMLTYYEGRAE...  10000.0  \n",
       " ...                                                 ...      ...  \n",
       " 5222  MSNVPHKSSLPEGIRPGTVLRIRGLVPPNASRFHVNLLCGEEQGSD...  54000.0  \n",
       " 5223  MGDTVVEPAPLKPTSEPTSGPPGNNGGSLLSVITEGVGELSVIDPE...    940.0  \n",
       " 5224  MGNYKSRPTQTCTDEWKKKVSESYVITIERLEDDLQIKEKELTELR...  10000.0  \n",
       " 5225  MASDSPARSLDEIDLSALRDPAGIFELVELVGNGTYGQVYKGRHVK...    140.0  \n",
       " 5226  MFGLKRNAVIGLNLYCGGAGLGAGSGGATRPGGRLLATEKEASARR...    954.0  \n",
       " \n",
       " [5227 rows x 5 columns],\n",
       " 'test':           Drug_ID                                               Drug  \\\n",
       " 0       9951964.0     O=C(c1ccc(F)cc1)C1CCN(CCC2Cc3cc(F)ccc3C2=O)CC1   \n",
       " 1      24889392.0  CC(C)(C)c1cc(NC(=O)Nc2ccc(-c3cn4c(n3)sc3cc(OCC...   \n",
       " 2        153999.0  CN(C)C[C@@H]1CCn2cc(c3ccccc32)C2=C(C(=O)NC2=O)...   \n",
       " 3      54756927.0  O=C(CCCCCNC(=O)COc1ccc(/C=C/c2ccc3n2[B-](F)(F)...   \n",
       " 4         44259.0  CN[C@@H]1C[C@H]2O[C@@](C)([C@@H]1OC)n1c3ccccc3...   \n",
       " ...           ...                                                ...   \n",
       " 10450   9933475.0  COc1cc2c(Oc3ccc4[nH]c(C)cc4c3F)ncnc2cc1OCCCN1C...   \n",
       " 10451   9813758.0                      Cc1ccc2nc(NCCN)c3ncc(C)n3c2c1   \n",
       " 10452  11427553.0       O=C(c1ccc(/C=C/c2n[nH]c3ccccc23)cc1)N1CCNCC1   \n",
       " 10453  10184653.0  CN(C)C/C=C/C(=O)Nc1cc2c(Nc3ccc(F)c(Cl)c3)ncnc2...   \n",
       " 10454    153999.0  CN(C)C[C@@H]1CCn2cc(c3ccccc32)C2=C(C(=O)NC2=O)...   \n",
       " \n",
       "       Target_ID                                             Target  \\\n",
       " 0        P14842  MEILCEDNISLSSIPNSLMQLGDGPRLYHNDFNSRDANTSEASNWT...   \n",
       " 1        O14733  MAASSLEQKLSRLEAKLKQENREARRRIDLNLDISPQRPRPTLQLP...   \n",
       " 2        P33981  MESEDLSGRELTIDSIMNKVRDIKNKFKNEDLTDELSLNKISADTT...   \n",
       " 3        P07550  MGQPGNGSAFLLAPNGSHAPDHDVTQERDEVWVVGMGIVMSLIVLA...   \n",
       " 4        Q9P289  MAHSPVAVQVPGMQNNIADPEELFTKLERIGKGSFGEVFKGIDNRT...   \n",
       " ...         ...                                                ...   \n",
       " 10450    Q9H4B4  MEPAAGFLSPRPFQRAAAAPAPPAGPGPPPSALRGPELEMLAGLPT...   \n",
       " 10451    O43318  MSTASAASSSSSSSAGEMIEAPSQVLNFEEIDYKEIEVEEVVGRGA...   \n",
       " 10452    O00238  MLLRSAGKLNVGTKKEDGESTAPTPRPKVLRCKCHHHCPEDSVNNI...   \n",
       " 10453    O14965  MDRSKENCISGPVKATAPVGGPKRVLVTQQFPCQNPLPVNSGQAQR...   \n",
       " 10454    O15530  MARTTSQLYDAVPIQSSVVLCSCPSPSMVRTQTESSTPPGIPGGSR...   \n",
       " \n",
       "                  Y  \n",
       " 0          7.59000  \n",
       " 1      10000.00000  \n",
       " 2      10000.00000  \n",
       " 3          0.74131  \n",
       " 4        140.00000  \n",
       " ...            ...  \n",
       " 10450  10000.00000  \n",
       " 10451  10000.00000  \n",
       " 10452    120.00000  \n",
       " 10453  10000.00000  \n",
       " 10454    700.00000  \n",
       " \n",
       " [10455 rows x 5 columns]}"
      ]
     },
     "execution_count": 7,
     "metadata": {},
     "output_type": "execute_result"
    }
   ],
   "source": [
    "split"
   ]
  },
  {
   "cell_type": "code",
   "execution_count": 8,
   "metadata": {
    "colab": {
     "base_uri": "https://localhost:8080/"
    },
    "executionInfo": {
     "elapsed": 3209,
     "status": "ok",
     "timestamp": 1740674712047,
     "user": {
      "displayName": "sofia fb",
      "userId": "02081027144009403775"
     },
     "user_tz": -60
    },
    "id": "DsqsV5eDSt2n",
    "outputId": "fb656d95-9b88-4195-d5b9-68143abbf1c5"
   },
   "outputs": [
    {
     "name": "stderr",
     "output_type": "stream",
     "text": [
      "Downloading...\n",
      "100%|██████████| 44.4M/44.4M [00:01<00:00, 24.4MiB/s]\n",
      "Loading...\n",
      "Done!\n"
     ]
    }
   ],
   "source": [
    "from tdc.multi_pred import DDI\n",
    "data = DDI(name = 'DrugBank')\n",
    "split = data.get_split()"
   ]
  },
  {
   "cell_type": "code",
   "execution_count": 9,
   "metadata": {
    "colab": {
     "base_uri": "https://localhost:8080/"
    },
    "executionInfo": {
     "elapsed": 7,
     "status": "ok",
     "timestamp": 1740674719369,
     "user": {
      "displayName": "sofia fb",
      "userId": "02081027144009403775"
     },
     "user_tz": -60
    },
    "id": "PyGYCfMBTDQ_",
    "outputId": "3fcb3de2-c919-4e38-d449-6f67e421a4fb"
   },
   "outputs": [
    {
     "data": {
      "text/plain": [
       "dict_keys(['train', 'valid', 'test'])"
      ]
     },
     "execution_count": 9,
     "metadata": {},
     "output_type": "execute_result"
    }
   ],
   "source": [
    "split.keys()"
   ]
  },
  {
   "cell_type": "code",
   "execution_count": 10,
   "metadata": {
    "colab": {
     "base_uri": "https://localhost:8080/"
    },
    "executionInfo": {
     "elapsed": 31,
     "status": "ok",
     "timestamp": 1740674725154,
     "user": {
      "displayName": "sofia fb",
      "userId": "02081027144009403775"
     },
     "user_tz": -60
    },
    "id": "3aMSALX-TF1r",
    "outputId": "2b7de002-e3b9-4dc9-f68b-c8ee772d5b2d"
   },
   "outputs": [
    {
     "data": {
      "text/plain": [
       "{'train':        Drug1_ID                                              Drug1 Drug2_ID  \\\n",
       " 0       DB04571                CC1=CC2=CC3=C(OC(=O)C=C3C)C(C)=C2O1  DB00460   \n",
       " 1       DB09536                                           O=[Ti]=O  DB00460   \n",
       " 2       DB01600              CC(C(O)=O)C1=CC=C(S1)C(=O)C1=CC=CC=C1  DB00460   \n",
       " 3       DB09000         CC(CN(C)C)CN1C2=CC=CC=C2SC2=C1C=C(C=C2)C#N  DB00460   \n",
       " 4       DB11630  OC1=CC=CC(=C1)C-1=C2\\CCC(=N2)\\C(=C2/N\\C(\\C=C2)...  DB00460   \n",
       " ...         ...                                                ...      ...   \n",
       " 134260  DB00437                                 OC1=NC=NC2=C1C=NN2  DB00524   \n",
       " 134261  DB00437                                 OC1=NC=NC2=C1C=NN2  DB01197   \n",
       " 134262  DB00437                                 OC1=NC=NC2=C1C=NN2  DB00542   \n",
       " 134263  DB00437                                 OC1=NC=NC2=C1C=NN2  DB00492   \n",
       " 134264  DB00415  [H][C@]12SC(C)(C)[C@@H](N1C(=O)[C@H]2NC(=O)[C@...  DB00437   \n",
       " \n",
       "                                                     Drug2   Y  \n",
       " 0       COC(=O)CCC1=C2NC(\\C=C3/N=C(/C=C4\\N\\C(=C/C5=N/C...   1  \n",
       " 1       COC(=O)CCC1=C2NC(\\C=C3/N=C(/C=C4\\N\\C(=C/C5=N/C...   1  \n",
       " 2       COC(=O)CCC1=C2NC(\\C=C3/N=C(/C=C4\\N\\C(=C/C5=N/C...   1  \n",
       " 3       COC(=O)CCC1=C2NC(\\C=C3/N=C(/C=C4\\N\\C(=C/C5=N/C...   1  \n",
       " 4       COC(=O)CCC1=C2NC(\\C=C3/N=C(/C=C4\\N\\C(=C/C5=N/C...   1  \n",
       " ...                                                   ...  ..  \n",
       " 134260  CC1NC2=CC(Cl)=C(C=C2C(=O)N1C1=CC=CC=C1C)S(N)(=...  86  \n",
       " 134261                   C[C@H](CS)C(=O)N1CCC[C@H]1C(O)=O  86  \n",
       " 134262  [H][C@@]1(CCC2=CC=CC=C2N(CC(O)=O)C1=O)N[C@@H](...  86  \n",
       " 134263  CCC(=O)O[C@@H](O[P@](=O)(CCCCC1=CC=CC=C1)CC(=O...  86  \n",
       " 134264                                 OC1=NC=NC2=C1C=NN2  86  \n",
       " \n",
       " [134265 rows x 5 columns],\n",
       " 'valid':       Drug1_ID                                              Drug1 Drug2_ID  \\\n",
       " 0      DB01159                               [H]C(Cl)(Br)C(F)(F)F  DB00951   \n",
       " 1      DB09295  FC(F)(F)C1=CC(NC2=C(C=CC=N2)C(=O)OC2OC(=O)C3=C...  DB00821   \n",
       " 2      DB01324  CN1C(CSCC(F)(F)F)NC2=CC(Cl)=C(C=C2S1(=O)=O)S(N...  DB01409   \n",
       " 3      DB01400                CN(C)C(=O)OC1=CC(=CC=C1)[N+](C)(C)C  DB00376   \n",
       " 4      DB06697  [H][C@@]12CC[C@@H](C)[C@]3([H])CC[C@@]4(C)OO[C...  DB09118   \n",
       " ...        ...                                                ...      ...   \n",
       " 19176  DB00897   CC1=NN=C2CN=C(C3=CC=CC=C3Cl)C3=C(C=CC(Cl)=C3)N12  DB01069   \n",
       " 19177  DB01118  CCCCC1=C(C(=O)C2=CC(I)=C(OCCN(CC)CC)C(I)=C2)C2...  DB00742   \n",
       " 19178  DB00489                CC(C)NCC(O)C1=CC=C(NS(C)(=O)=O)C=C1  DB01100   \n",
       " 19179  DB00875  [H]\\C(CCN1CCN(CCO)CC1)=C1/C2=CC=CC=C2SC2=C1C=C...  DB09017   \n",
       " 19180  DB01072  COC(=O)N[C@H](C(=O)N[C@@H](CC1=CC=CC=C1)[C@@H]...  DB00289   \n",
       " \n",
       "                                                    Drug2   Y  \n",
       " 0                                     NNC(=O)C1=CC=NC=C1  47  \n",
       " 1            CC(C(O)=O)C1=CC2=C(C=C1)C1=C(N2)C=CC(Cl)=C1  49  \n",
       " 2      [H][C@]12O[C@@]1([H])[C@]1([H])C[C@@]([H])(C[C...  73  \n",
       " 3                    OC(CCN1CCCCC1)(C1CCCCC1)C1=CC=CC=C1  70  \n",
       " 4                    CC(C)(C)C(O)\\C=C\\C1=CC2=C(OCO2)C=C1  73  \n",
       " ...                                                  ...  ..  \n",
       " 19176               CC(CN1C2=CC=CC=C2SC2=CC=CC=C12)N(C)C  49  \n",
       " 19177             OC[C@@H](O)[C@@H](O)[C@H](O)[C@H](O)CO  49  \n",
       " 19178  FC1=CC=C(C=C1)C(CCCN1CCC(CC1)N1C(=O)NC2=CC=CC=...  33  \n",
       " 19179     CC1=NN=C2CN=C(C3=C(SC(Br)=C3)N12)C1=CC=CC=C1Cl  49  \n",
       " 19180               CNCC[C@@H](OC1=CC=CC=C1C)C1=CC=CC=C1  47  \n",
       " \n",
       " [19181 rows x 5 columns],\n",
       " 'test':       Drug1_ID                                              Drug1 Drug2_ID  \\\n",
       " 0      DB00503  CC(C)[C@H](NC(=O)N(C)CC1=CSC(=N1)C(C)C)C(=O)N[...  DB00169   \n",
       " 1      DB04930  CC1(C)C(C=C(Cl)Cl)C1C(=O)OCC1=CC(OC2=CC=CC=C2)...  DB01589   \n",
       " 2      DB00753                                FC(F)OC(Cl)C(F)(F)F  DB00285   \n",
       " 3      DB01210            CC(C)(C)NC[C@H](O)COC1=CC=CC2=C1CCCC2=O  DB04896   \n",
       " 4      DB00328  COC1=CC2=C(C=C1)N(C(=O)C1=CC=C(Cl)C=C1)C(C)=C2...  DB12332   \n",
       " ...        ...                                                ...      ...   \n",
       " 38357  DB00655  [H][C@@]12CCC(=O)[C@@]1(C)CC[C@]1([H])C3=C(CC[...  DB00999   \n",
       " 38358  DB00418                    CCCC(C)C1(CC=C)C(=O)NC(=O)NC1=O  DB00091   \n",
       " 38359  DB00312                      CCCC(C)C1(CC)C(=O)NC(=O)NC1=O  DB00379   \n",
       " 38360  DB01095  CC(C)N1C(\\C=C\\[C@H](O)C[C@H](O)CC(O)=O)=C(C2=C...  DB01200   \n",
       " 38361  DB00238          CC1=C2NC(=O)C3=C(N=CC=C3)N(C3CC3)C2=NC=C1  DB00528   \n",
       " \n",
       "                                                    Drug2   Y  \n",
       " 0      CC(C)CCC[C@@H](C)[C@@]1([H])CC[C@@]2([H])\\C(CC...  47  \n",
       " 1      FC1=CC=CC=C1C1=NCC(=S)N(CC(F)(F)F)C2=C1C=C(Cl)...  73  \n",
       " 2                    COC1=CC=C(C=C1)C(CN(C)C)C1(O)CCCCC1  47  \n",
       " 3                       CCN(CC)C(=O)C1(CC1CN)C1=CC=CC=C1  73  \n",
       " 4       CNCC1=CC=C(C=C1)C1=C2CCNC(=O)C3=C2C(N1)=CC(F)=C3  47  \n",
       " ...                                                  ...  ..  \n",
       " 38357            NS(=O)(=O)C1=C(Cl)C=C2NCNS(=O)(=O)C2=C1  83  \n",
       " 38358  CC[C@@H]1NC(=O)[C@H]([C@H](O)[C@H](C)C\\C=C\\C)N...   4  \n",
       " 38359                             CC(N)COC1=C(C)C=CC=C1C   4  \n",
       " 38360  [H][C@@]12CCCN1C(=O)[C@H](CC(C)C)N1C(=O)[C@](N...  73  \n",
       " 38361  COC(=O)C1=C(C)NC(C)=C(C1C1=CC(=CC=C1)[N+]([O-]...   4  \n",
       " \n",
       " [38362 rows x 5 columns]}"
      ]
     },
     "execution_count": 10,
     "metadata": {},
     "output_type": "execute_result"
    }
   ],
   "source": [
    "split"
   ]
  },
  {
   "cell_type": "code",
   "execution_count": 12,
   "metadata": {
    "colab": {
     "base_uri": "https://localhost:8080/"
    },
    "executionInfo": {
     "elapsed": 1641,
     "status": "ok",
     "timestamp": 1740674900321,
     "user": {
      "displayName": "sofia fb",
      "userId": "02081027144009403775"
     },
     "user_tz": -60
    },
    "id": "WWWVJFnbTHPl",
    "outputId": "9fd5b705-1d02-4ff1-952d-28991b7109ad"
   },
   "outputs": [
    {
     "data": {
      "text/plain": [
       "{1: '#Drug1 may increase the photosensitizing activities of #Drug2.',\n",
       " 2: '#Drug1 may increase the anticholinergic activities of #Drug2.',\n",
       " 3: 'The bioavailability of #Drug2 can be decreased when combined with #Drug1.',\n",
       " 4: 'The metabolism of #Drug2 can be increased when combined with #Drug1.',\n",
       " 5: '#Drug1 may decrease the vasoconstricting activities of #Drug2.',\n",
       " 6: '#Drug1 may increase the anticoagulant activities of #Drug2.',\n",
       " 7: '#Drug1 may increase the ototoxic activities of #Drug2.',\n",
       " 8: 'The therapeutic efficacy of #Drug2 can be increased when used in combination with #Drug1.',\n",
       " 9: '#Drug1 may increase the hypoglycemic activities of #Drug2.',\n",
       " 10: '#Drug1 may increase the antihypertensive activities of #Drug2.',\n",
       " 11: 'The serum concentration of the active metabolites of #Drug2 can be reduced when #Drug2 is used in combination with #Drug1 resulting in a loss in efficacy.',\n",
       " 12: '#Drug1 may decrease the anticoagulant activities of #Drug2.',\n",
       " 13: 'The absorption of #Drug2 can be decreased when combined with #Drug1.',\n",
       " 14: '#Drug1 may decrease the bronchodilatory activities of #Drug2.',\n",
       " 15: '#Drug1 may increase the cardiotoxic activities of #Drug2.',\n",
       " 16: '#Drug1 may increase the central nervous system depressant (CNS depressant) activities of #Drug2.',\n",
       " 17: '#Drug1 may decrease the neuromuscular blocking activities of #Drug2.',\n",
       " 18: '#Drug1 can cause an increase in the absorption of #Drug2 resulting in an increased serum concentration and potentially a worsening of adverse effects.',\n",
       " 19: '#Drug1 may increase the vasoconstricting activities of #Drug2.',\n",
       " 20: '#Drug1 may increase the QTc-prolonging activities of #Drug2.',\n",
       " 21: '#Drug1 may increase the neuromuscular blocking activities of #Drug2.',\n",
       " 22: '#Drug1 may increase the adverse neuromuscular activities of #Drug2.',\n",
       " 23: '#Drug1 may increase the stimulatory activities of #Drug2.',\n",
       " 24: '#Drug1 may increase the hypocalcemic activities of #Drug2.',\n",
       " 25: '#Drug1 may increase the atrioventricular blocking (AV block) activities of #Drug2.',\n",
       " 26: '#Drug1 may decrease the antiplatelet activities of #Drug2.',\n",
       " 27: '#Drug1 may increase the neuroexcitatory activities of #Drug2.',\n",
       " 28: '#Drug1 may increase the dermatologic adverse activities of #Drug2.',\n",
       " 29: '#Drug1 may decrease the diuretic activities of #Drug2.',\n",
       " 30: '#Drug1 may increase the orthostatic hypotensive activities of #Drug2.',\n",
       " 31: 'The risk or severity of hypertension can be increased when #Drug2 is combined with #Drug1.',\n",
       " 32: '#Drug1 may increase the sedative activities of #Drug2.',\n",
       " 33: 'The risk or severity of QTc prolongation can be increased when #Drug1 is combined with #Drug2.',\n",
       " 34: '#Drug1 may increase the immunosuppressive activities of #Drug2.',\n",
       " 35: '#Drug1 may increase the neurotoxic activities of #Drug2.',\n",
       " 36: '#Drug1 may increase the antipsychotic activities of #Drug2.',\n",
       " 37: '#Drug1 may decrease the antihypertensive activities of #Drug2.',\n",
       " 38: '#Drug1 may increase the vasodilatory activities of #Drug2.',\n",
       " 39: '#Drug1 may increase the constipating activities of #Drug2.',\n",
       " 40: '#Drug1 may increase the respiratory depressant activities of #Drug2.',\n",
       " 41: '#Drug1 may increase the hypotensive and central nervous system depressant (CNS depressant) activities of #Drug2.',\n",
       " 42: 'The risk or severity of hyperkalemia can be increased when #Drug1 is combined with #Drug2.',\n",
       " 43: 'The protein binding of #Drug2 can be decreased when combined with #Drug1.',\n",
       " 44: '#Drug1 may increase the central neurotoxic activities of #Drug2.',\n",
       " 45: '#Drug1 may decrease effectiveness of #Drug2 as a diagnostic agent.',\n",
       " 46: '#Drug1 may increase the bronchoconstrictory activities of #Drug2.',\n",
       " 47: 'The metabolism of #Drug2 can be decreased when combined with #Drug1.',\n",
       " 48: '#Drug1 may increase the myopathic rhabdomyolysis activities of #Drug2.',\n",
       " 49: 'The risk or severity of adverse effects can be increased when #Drug1 is combined with #Drug2.',\n",
       " 50: 'The risk or severity of heart failure can be increased when #Drug2 is combined with #Drug1.',\n",
       " 51: '#Drug1 may increase the hypercalcemic activities of #Drug2.',\n",
       " 52: '#Drug1 may decrease the analgesic activities of #Drug2.',\n",
       " 53: '#Drug1 may increase the antiplatelet activities of #Drug2.',\n",
       " 54: '#Drug1 may increase the bradycardic activities of #Drug2.',\n",
       " 55: '#Drug1 may increase the hyponatremic activities of #Drug2.',\n",
       " 56: 'The risk or severity of hypotension can be increased when #Drug1 is combined with #Drug2.',\n",
       " 57: '#Drug1 may increase the nephrotoxic activities of #Drug2.',\n",
       " 58: '#Drug1 may decrease the cardiotoxic activities of #Drug2.',\n",
       " 59: '#Drug1 may increase the ulcerogenic activities of #Drug2.',\n",
       " 60: '#Drug1 may increase the hypotensive activities of #Drug2.',\n",
       " 61: '#Drug1 may decrease the stimulatory activities of #Drug2.',\n",
       " 62: 'The bioavailability of #Drug2 can be increased when combined with #Drug1.',\n",
       " 63: '#Drug1 may increase the myelosuppressive activities of #Drug2.',\n",
       " 64: '#Drug1 may increase the serotonergic activities of #Drug2.',\n",
       " 65: '#Drug1 may increase the excretion rate of #Drug2 which could result in a lower serum level and potentially a reduction in efficacy.',\n",
       " 66: 'The risk or severity of bleeding can be increased when #Drug1 is combined with #Drug2.',\n",
       " 67: '#Drug1 can cause a decrease in the absorption of #Drug2 resulting in a reduced serum concentration and potentially a decrease in efficacy.',\n",
       " 68: '#Drug1 may increase the hyperkalemic activities of #Drug2.',\n",
       " 69: '#Drug1 may increase the analgesic activities of #Drug2.',\n",
       " 70: 'The therapeutic efficacy of #Drug2 can be decreased when used in combination with #Drug1.',\n",
       " 71: '#Drug1 may increase the hypertensive activities of #Drug2.',\n",
       " 72: '#Drug1 may decrease the excretion rate of #Drug2 which could result in a higher serum level.',\n",
       " 73: 'The serum concentration of #Drug2 can be increased when it is combined with #Drug1.',\n",
       " 74: '#Drug1 may increase the fluid retaining activities of #Drug2.',\n",
       " 75: 'The serum concentration of #Drug2 can be decreased when it is combined with #Drug1.',\n",
       " 76: '#Drug1 may decrease the sedative activities of #Drug2.',\n",
       " 77: 'The serum concentration of the active metabolites of #Drug2 can be increased when #Drug2 is used in combination with #Drug1.',\n",
       " 78: '#Drug1 may increase the hyperglycemic activities of #Drug2.',\n",
       " 79: '#Drug1 may increase the central nervous system depressant (CNS depressant) and hypertensive activities of #Drug2.',\n",
       " 80: '#Drug1 may increase the hepatotoxic activities of #Drug2.',\n",
       " 81: '#Drug1 may increase the thrombogenic activities of #Drug2.',\n",
       " 82: '#Drug1 may increase the arrhythmogenic activities of #Drug2.',\n",
       " 83: '#Drug1 may increase the hypokalemic activities of #Drug2.',\n",
       " 84: '#Drug1 may increase the vasopressor activities of #Drug2.',\n",
       " 85: '#Drug1 may increase the tachycardic activities of #Drug2.',\n",
       " 86: 'The risk of a hypersensitivity reaction to #Drug2 is increased when it is combined with #Drug1.'}"
      ]
     },
     "execution_count": 12,
     "metadata": {},
     "output_type": "execute_result"
    }
   ],
   "source": [
    "from tdc.utils import get_label_map\n",
    "get_label_map(name = 'DrugBank', task = 'DDI')"
   ]
  },
  {
   "cell_type": "code",
   "execution_count": 13,
   "metadata": {
    "colab": {
     "base_uri": "https://localhost:8080/"
    },
    "executionInfo": {
     "elapsed": 58160,
     "status": "ok",
     "timestamp": 1740675034170,
     "user": {
      "displayName": "sofia fb",
      "userId": "02081027144009403775"
     },
     "user_tz": -60
    },
    "id": "-ZL6Q06oTt6G",
    "outputId": "7cf7833c-c1d8-499c-e1c3-32d2fe430685"
   },
   "outputs": [
    {
     "name": "stderr",
     "output_type": "stream",
     "text": [
      "Downloading...\n",
      "100%|██████████| 1.62G/1.62G [00:51<00:00, 31.3MiB/s]\n",
      "Loading...\n",
      "Done!\n"
     ]
    }
   ],
   "source": [
    "\n",
    "from tdc.multi_pred import DrugSyn\n",
    "data = DrugSyn(name = 'OncoPolyPharmacology')\n",
    "split = data.get_split()"
   ]
  },
  {
   "cell_type": "code",
   "execution_count": 15,
   "metadata": {
    "colab": {
     "base_uri": "https://localhost:8080/"
    },
    "executionInfo": {
     "elapsed": 11,
     "status": "ok",
     "timestamp": 1740675109697,
     "user": {
      "displayName": "sofia fb",
      "userId": "02081027144009403775"
     },
     "user_tz": -60
    },
    "id": "hq-1k5U_UEdD",
    "outputId": "dbf65273-4c9c-4640-8310-ac945d0d9add"
   },
   "outputs": [
    {
     "data": {
      "text/plain": [
       "dict_keys(['train', 'valid', 'test'])"
      ]
     },
     "execution_count": 15,
     "metadata": {},
     "output_type": "execute_result"
    }
   ],
   "source": [
    "split.keys()"
   ]
  },
  {
   "cell_type": "code",
   "execution_count": 17,
   "metadata": {
    "colab": {
     "base_uri": "https://localhost:8080/",
     "height": 204
    },
    "executionInfo": {
     "elapsed": 262,
     "status": "ok",
     "timestamp": 1740675203916,
     "user": {
      "displayName": "sofia fb",
      "userId": "02081027144009403775"
     },
     "user_tz": -60
    },
    "id": "b0s_CMWVUwng",
    "outputId": "1dd1814c-0d8d-44f6-a9e0-4a5a9363aea2"
   },
   "outputs": [
    {
     "data": {
      "text/html": [
       "<div style=\"max-width:800px; border: 1px solid var(--colab-border-color);\"><style>\n",
       "      pre.function-repr-contents {\n",
       "        overflow-x: auto;\n",
       "        padding: 8px 12px;\n",
       "        max-height: 500px;\n",
       "      }\n",
       "\n",
       "      pre.function-repr-contents.function-repr-contents-collapsed {\n",
       "        cursor: pointer;\n",
       "        max-height: 100px;\n",
       "      }\n",
       "    </style>\n",
       "    <pre style=\"white-space: initial; background:\n",
       "         var(--colab-secondary-surface-color); padding: 8px 12px;\n",
       "         border-bottom: 1px solid var(--colab-border-color);\"><b>pandas.core.frame.DataFrame</b><br/>def __init__(data=None, index: Axes | None=None, columns: Axes | None=None, dtype: Dtype | None=None, copy: bool | None=None) -&gt; None</pre><pre class=\"function-repr-contents function-repr-contents-collapsed\" style=\"\"><a class=\"filepath\" style=\"display:none\" href=\"#\">/usr/local/lib/python3.11/dist-packages/pandas/core/frame.py</a>Two-dimensional, size-mutable, potentially heterogeneous tabular data.\n",
       "\n",
       "Data structure also contains labeled axes (rows and columns).\n",
       "Arithmetic operations align on both row and column labels. Can be\n",
       "thought of as a dict-like container for Series objects. The primary\n",
       "pandas data structure.\n",
       "\n",
       "Parameters\n",
       "----------\n",
       "data : ndarray (structured or homogeneous), Iterable, dict, or DataFrame\n",
       "    Dict can contain Series, arrays, constants, dataclass or list-like objects. If\n",
       "    data is a dict, column order follows insertion-order. If a dict contains Series\n",
       "    which have an index defined, it is aligned by its index. This alignment also\n",
       "    occurs if data is a Series or a DataFrame itself. Alignment is done on\n",
       "    Series/DataFrame inputs.\n",
       "\n",
       "    If data is a list of dicts, column order follows insertion-order.\n",
       "\n",
       "index : Index or array-like\n",
       "    Index to use for resulting frame. Will default to RangeIndex if\n",
       "    no indexing information part of input data and no index provided.\n",
       "columns : Index or array-like\n",
       "    Column labels to use for resulting frame when data does not have them,\n",
       "    defaulting to RangeIndex(0, 1, 2, ..., n). If data contains column labels,\n",
       "    will perform column selection instead.\n",
       "dtype : dtype, default None\n",
       "    Data type to force. Only a single dtype is allowed. If None, infer.\n",
       "copy : bool or None, default None\n",
       "    Copy data from inputs.\n",
       "    For dict data, the default of None behaves like ``copy=True``.  For DataFrame\n",
       "    or 2d ndarray input, the default of None behaves like ``copy=False``.\n",
       "    If data is a dict containing one or more Series (possibly of different dtypes),\n",
       "    ``copy=False`` will ensure that these inputs are not copied.\n",
       "\n",
       "    .. versionchanged:: 1.3.0\n",
       "\n",
       "See Also\n",
       "--------\n",
       "DataFrame.from_records : Constructor from tuples, also record arrays.\n",
       "DataFrame.from_dict : From dicts of Series, arrays, or dicts.\n",
       "read_csv : Read a comma-separated values (csv) file into DataFrame.\n",
       "read_table : Read general delimited file into DataFrame.\n",
       "read_clipboard : Read text from clipboard into DataFrame.\n",
       "\n",
       "Notes\n",
       "-----\n",
       "Please reference the :ref:`User Guide &lt;basics.dataframe&gt;` for more information.\n",
       "\n",
       "Examples\n",
       "--------\n",
       "Constructing DataFrame from a dictionary.\n",
       "\n",
       "&gt;&gt;&gt; d = {&#x27;col1&#x27;: [1, 2], &#x27;col2&#x27;: [3, 4]}\n",
       "&gt;&gt;&gt; df = pd.DataFrame(data=d)\n",
       "&gt;&gt;&gt; df\n",
       "   col1  col2\n",
       "0     1     3\n",
       "1     2     4\n",
       "\n",
       "Notice that the inferred dtype is int64.\n",
       "\n",
       "&gt;&gt;&gt; df.dtypes\n",
       "col1    int64\n",
       "col2    int64\n",
       "dtype: object\n",
       "\n",
       "To enforce a single dtype:\n",
       "\n",
       "&gt;&gt;&gt; df = pd.DataFrame(data=d, dtype=np.int8)\n",
       "&gt;&gt;&gt; df.dtypes\n",
       "col1    int8\n",
       "col2    int8\n",
       "dtype: object\n",
       "\n",
       "Constructing DataFrame from a dictionary including Series:\n",
       "\n",
       "&gt;&gt;&gt; d = {&#x27;col1&#x27;: [0, 1, 2, 3], &#x27;col2&#x27;: pd.Series([2, 3], index=[2, 3])}\n",
       "&gt;&gt;&gt; pd.DataFrame(data=d, index=[0, 1, 2, 3])\n",
       "   col1  col2\n",
       "0     0   NaN\n",
       "1     1   NaN\n",
       "2     2   2.0\n",
       "3     3   3.0\n",
       "\n",
       "Constructing DataFrame from numpy ndarray:\n",
       "\n",
       "&gt;&gt;&gt; df2 = pd.DataFrame(np.array([[1, 2, 3], [4, 5, 6], [7, 8, 9]]),\n",
       "...                    columns=[&#x27;a&#x27;, &#x27;b&#x27;, &#x27;c&#x27;])\n",
       "&gt;&gt;&gt; df2\n",
       "   a  b  c\n",
       "0  1  2  3\n",
       "1  4  5  6\n",
       "2  7  8  9\n",
       "\n",
       "Constructing DataFrame from a numpy ndarray that has labeled columns:\n",
       "\n",
       "&gt;&gt;&gt; data = np.array([(1, 2, 3), (4, 5, 6), (7, 8, 9)],\n",
       "...                 dtype=[(&quot;a&quot;, &quot;i4&quot;), (&quot;b&quot;, &quot;i4&quot;), (&quot;c&quot;, &quot;i4&quot;)])\n",
       "&gt;&gt;&gt; df3 = pd.DataFrame(data, columns=[&#x27;c&#x27;, &#x27;a&#x27;])\n",
       "...\n",
       "&gt;&gt;&gt; df3\n",
       "   c  a\n",
       "0  3  1\n",
       "1  6  4\n",
       "2  9  7\n",
       "\n",
       "Constructing DataFrame from dataclass:\n",
       "\n",
       "&gt;&gt;&gt; from dataclasses import make_dataclass\n",
       "&gt;&gt;&gt; Point = make_dataclass(&quot;Point&quot;, [(&quot;x&quot;, int), (&quot;y&quot;, int)])\n",
       "&gt;&gt;&gt; pd.DataFrame([Point(0, 0), Point(0, 3), Point(2, 3)])\n",
       "   x  y\n",
       "0  0  0\n",
       "1  0  3\n",
       "2  2  3\n",
       "\n",
       "Constructing DataFrame from Series/DataFrame:\n",
       "\n",
       "&gt;&gt;&gt; ser = pd.Series([1, 2, 3], index=[&quot;a&quot;, &quot;b&quot;, &quot;c&quot;])\n",
       "&gt;&gt;&gt; df = pd.DataFrame(data=ser, index=[&quot;a&quot;, &quot;c&quot;])\n",
       "&gt;&gt;&gt; df\n",
       "   0\n",
       "a  1\n",
       "c  3\n",
       "\n",
       "&gt;&gt;&gt; df1 = pd.DataFrame([1, 2, 3], index=[&quot;a&quot;, &quot;b&quot;, &quot;c&quot;], columns=[&quot;x&quot;])\n",
       "&gt;&gt;&gt; df2 = pd.DataFrame(data=df1, index=[&quot;a&quot;, &quot;c&quot;])\n",
       "&gt;&gt;&gt; df2\n",
       "   x\n",
       "a  1\n",
       "c  3</pre>\n",
       "      <script>\n",
       "      if (google.colab.kernel.accessAllowed && google.colab.files && google.colab.files.view) {\n",
       "        for (const element of document.querySelectorAll('.filepath')) {\n",
       "          element.style.display = 'block'\n",
       "          element.onclick = (event) => {\n",
       "            event.preventDefault();\n",
       "            event.stopPropagation();\n",
       "            google.colab.files.view(element.textContent, 509);\n",
       "          };\n",
       "        }\n",
       "      }\n",
       "      for (const element of document.querySelectorAll('.function-repr-contents')) {\n",
       "        element.onclick = (event) => {\n",
       "          event.preventDefault();\n",
       "          event.stopPropagation();\n",
       "          element.classList.toggle('function-repr-contents-collapsed');\n",
       "        };\n",
       "      }\n",
       "      </script>\n",
       "      </div>"
      ],
      "text/plain": [
       "pandas.core.frame.DataFrame"
      ]
     },
     "execution_count": 17,
     "metadata": {},
     "output_type": "execute_result"
    }
   ],
   "source": [
    "type(split['train'])"
   ]
  },
  {
   "cell_type": "code",
   "execution_count": 19,
   "metadata": {
    "colab": {
     "base_uri": "https://localhost:8080/",
     "height": 597
    },
    "executionInfo": {
     "elapsed": 179,
     "status": "ok",
     "timestamp": 1740675227806,
     "user": {
      "displayName": "sofia fb",
      "userId": "02081027144009403775"
     },
     "user_tz": -60
    },
    "id": "GGv8fNDgU-Yi",
    "outputId": "7ec46529-c2f1-42e3-b185-9ee5699e7027"
   },
   "outputs": [
    {
     "data": {
      "application/vnd.google.colaboratory.intrinsic+json": {
       "summary": "{\n  \"name\": \"train_data\",\n  \"rows\": 16137,\n  \"fields\": [\n    {\n      \"column\": \"Drug1_ID\",\n      \"properties\": {\n        \"dtype\": \"category\",\n        \"num_unique_values\": 37,\n        \"samples\": [\n          \"METFORMIN\",\n          \"GELDANAMYCIN\",\n          \"BORTEZOMIB\"\n        ],\n        \"semantic_type\": \"\",\n        \"description\": \"\"\n      }\n    },\n    {\n      \"column\": \"Drug2_ID\",\n      \"properties\": {\n        \"dtype\": \"category\",\n        \"num_unique_values\": 37,\n        \"samples\": [\n          \"SUNITINIB\",\n          \"MK-8669\",\n          \"DASATINIB\"\n        ],\n        \"semantic_type\": \"\",\n        \"description\": \"\"\n      }\n    },\n    {\n      \"column\": \"Cell_Line_ID\",\n      \"properties\": {\n        \"dtype\": \"category\",\n        \"num_unique_values\": 39,\n        \"samples\": [\n          \"UACC62\",\n          \"COLO320DM\",\n          \"DLD1\"\n        ],\n        \"semantic_type\": \"\",\n        \"description\": \"\"\n      }\n    },\n    {\n      \"column\": \"Y\",\n      \"properties\": {\n        \"dtype\": \"number\",\n        \"std\": 22.88375615906748,\n        \"min\": -326.4643042417,\n        \"max\": 179.12332455900003,\n        \"num_unique_values\": 16137,\n        \"samples\": [\n          3.0450785637,\n          -13.759715583,\n          -0.2644247468\n        ],\n        \"semantic_type\": \"\",\n        \"description\": \"\"\n      }\n    },\n    {\n      \"column\": \"Cell_Line\",\n      \"properties\": {\n        \"dtype\": \"object\",\n        \"semantic_type\": \"\",\n        \"description\": \"\"\n      }\n    },\n    {\n      \"column\": \"Drug1\",\n      \"properties\": {\n        \"dtype\": \"category\",\n        \"num_unique_values\": 37,\n        \"samples\": [\n          \"CN(C)C(=N)N=C(N)N\",\n          \"COC1=C2CC(C)CC(OC)C(O)C(C)C=C(C)C(OC(N)=O)C(OC)C=CC=C(C)C(=O)NC(=CC1=O)C2=O\",\n          \"CC(C)CC(NC(=O)C(Cc1ccccc1)NC(=O)c1cnccn1)B(O)O\"\n        ],\n        \"semantic_type\": \"\",\n        \"description\": \"\"\n      }\n    },\n    {\n      \"column\": \"Drug2\",\n      \"properties\": {\n        \"dtype\": \"category\",\n        \"num_unique_values\": 37,\n        \"samples\": [\n          \"CCN(CC)CCNC(=O)c1c(C)[nH]c(C=C2C(=O)Nc3ccc(F)cc32)c1C\",\n          \"COC1CC2CCC(C)C(O)(O2)C(=O)C(=O)N2CCCCC2C(=O)OC(C(C)CC2CCC(OP(C)(C)=O)C(OC)C2)CC(=O)C(C)C=C(C)C(O)C(OC)C(=O)C(C)CC(C)C=CC=CC=C1C\",\n          \"Cc1nc(Nc2ncc(C(=O)Nc3c(C)cccc3Cl)s2)cc(N2CCN(CCO)CC2)n1\"\n        ],\n        \"semantic_type\": \"\",\n        \"description\": \"\"\n      }\n    }\n  ]\n}",
       "type": "dataframe",
       "variable_name": "train_data"
      },
      "text/html": [
       "\n",
       "  <div id=\"df-b9db8852-e847-4ab0-9f54-3b80cd9fed46\" class=\"colab-df-container\">\n",
       "    <div>\n",
       "<style scoped>\n",
       "    .dataframe tbody tr th:only-of-type {\n",
       "        vertical-align: middle;\n",
       "    }\n",
       "\n",
       "    .dataframe tbody tr th {\n",
       "        vertical-align: top;\n",
       "    }\n",
       "\n",
       "    .dataframe thead th {\n",
       "        text-align: right;\n",
       "    }\n",
       "</style>\n",
       "<table border=\"1\" class=\"dataframe\">\n",
       "  <thead>\n",
       "    <tr style=\"text-align: right;\">\n",
       "      <th></th>\n",
       "      <th>Drug1_ID</th>\n",
       "      <th>Drug2_ID</th>\n",
       "      <th>Cell_Line_ID</th>\n",
       "      <th>Y</th>\n",
       "      <th>Cell_Line</th>\n",
       "      <th>Drug1</th>\n",
       "      <th>Drug2</th>\n",
       "    </tr>\n",
       "  </thead>\n",
       "  <tbody>\n",
       "    <tr>\n",
       "      <th>0</th>\n",
       "      <td>5-FU</td>\n",
       "      <td>ABT-888</td>\n",
       "      <td>A2058</td>\n",
       "      <td>7.693530</td>\n",
       "      <td>[5.291146039856301, 5.040386719464342, 5.29114...</td>\n",
       "      <td>O=c1[nH]cc(F)c(=O)[nH]1</td>\n",
       "      <td>CC1(c2nc3c(C(N)=O)cccc3[nH]2)CCCN1</td>\n",
       "    </tr>\n",
       "    <tr>\n",
       "      <th>1</th>\n",
       "      <td>5-FU</td>\n",
       "      <td>ABT-888</td>\n",
       "      <td>A2780</td>\n",
       "      <td>7.778053</td>\n",
       "      <td>[5.291146039856301, 5.040386719464342, 5.29114...</td>\n",
       "      <td>O=c1[nH]cc(F)c(=O)[nH]1</td>\n",
       "      <td>CC1(c2nc3c(C(N)=O)cccc3[nH]2)CCCN1</td>\n",
       "    </tr>\n",
       "    <tr>\n",
       "      <th>2</th>\n",
       "      <td>5-FU</td>\n",
       "      <td>ABT-888</td>\n",
       "      <td>A375</td>\n",
       "      <td>-1.198505</td>\n",
       "      <td>[5.291146039856301, 5.040386719464342, 5.29114...</td>\n",
       "      <td>O=c1[nH]cc(F)c(=O)[nH]1</td>\n",
       "      <td>CC1(c2nc3c(C(N)=O)cccc3[nH]2)CCCN1</td>\n",
       "    </tr>\n",
       "    <tr>\n",
       "      <th>3</th>\n",
       "      <td>5-FU</td>\n",
       "      <td>ABT-888</td>\n",
       "      <td>CAOV3</td>\n",
       "      <td>-5.139971</td>\n",
       "      <td>[5.291146039856301, 5.040386719464342, 5.29114...</td>\n",
       "      <td>O=c1[nH]cc(F)c(=O)[nH]1</td>\n",
       "      <td>CC1(c2nc3c(C(N)=O)cccc3[nH]2)CCCN1</td>\n",
       "    </tr>\n",
       "    <tr>\n",
       "      <th>4</th>\n",
       "      <td>5-FU</td>\n",
       "      <td>ABT-888</td>\n",
       "      <td>DLD1</td>\n",
       "      <td>1.935127</td>\n",
       "      <td>[5.291146039856301, 5.040386719464342, 5.29114...</td>\n",
       "      <td>O=c1[nH]cc(F)c(=O)[nH]1</td>\n",
       "      <td>CC1(c2nc3c(C(N)=O)cccc3[nH]2)CCCN1</td>\n",
       "    </tr>\n",
       "    <tr>\n",
       "      <th>...</th>\n",
       "      <td>...</td>\n",
       "      <td>...</td>\n",
       "      <td>...</td>\n",
       "      <td>...</td>\n",
       "      <td>...</td>\n",
       "      <td>...</td>\n",
       "      <td>...</td>\n",
       "    </tr>\n",
       "    <tr>\n",
       "      <th>16132</th>\n",
       "      <td>ZOLINZA</td>\n",
       "      <td>TOPOTECAN</td>\n",
       "      <td>T47D</td>\n",
       "      <td>18.985100</td>\n",
       "      <td>[-0.18899497244411118, -0.19839747536407973, -...</td>\n",
       "      <td>O=C(CCCCCCC(=O)Nc1ccccc1)NO</td>\n",
       "      <td>CCC1(O)C(=O)OCc2c1cc1n(c2=O)Cc2cc3c(CN(C)C)c(O...</td>\n",
       "    </tr>\n",
       "    <tr>\n",
       "      <th>16133</th>\n",
       "      <td>ZOLINZA</td>\n",
       "      <td>TOPOTECAN</td>\n",
       "      <td>UACC62</td>\n",
       "      <td>10.223066</td>\n",
       "      <td>[-0.18899497244411118, -0.19839747536407973, -...</td>\n",
       "      <td>O=C(CCCCCCC(=O)Nc1ccccc1)NO</td>\n",
       "      <td>CCC1(O)C(=O)OCc2c1cc1n(c2=O)Cc2cc3c(CN(C)C)c(O...</td>\n",
       "    </tr>\n",
       "    <tr>\n",
       "      <th>16134</th>\n",
       "      <td>ZOLINZA</td>\n",
       "      <td>TOPOTECAN</td>\n",
       "      <td>UWB1289BRCA1</td>\n",
       "      <td>20.551627</td>\n",
       "      <td>[-0.18899497244411118, -0.19839747536407973, -...</td>\n",
       "      <td>O=C(CCCCCCC(=O)Nc1ccccc1)NO</td>\n",
       "      <td>CCC1(O)C(=O)OCc2c1cc1n(c2=O)Cc2cc3c(CN(C)C)c(O...</td>\n",
       "    </tr>\n",
       "    <tr>\n",
       "      <th>16135</th>\n",
       "      <td>ZOLINZA</td>\n",
       "      <td>TOPOTECAN</td>\n",
       "      <td>UWB1289</td>\n",
       "      <td>12.190316</td>\n",
       "      <td>[-0.18899497244411118, -0.19839747536407973, -...</td>\n",
       "      <td>O=C(CCCCCCC(=O)Nc1ccccc1)NO</td>\n",
       "      <td>CCC1(O)C(=O)OCc2c1cc1n(c2=O)Cc2cc3c(CN(C)C)c(O...</td>\n",
       "    </tr>\n",
       "    <tr>\n",
       "      <th>16136</th>\n",
       "      <td>ZOLINZA</td>\n",
       "      <td>TOPOTECAN</td>\n",
       "      <td>ZR751</td>\n",
       "      <td>12.223791</td>\n",
       "      <td>[-0.18899497244411118, -0.19839747536407973, -...</td>\n",
       "      <td>O=C(CCCCCCC(=O)Nc1ccccc1)NO</td>\n",
       "      <td>CCC1(O)C(=O)OCc2c1cc1n(c2=O)Cc2cc3c(CN(C)C)c(O...</td>\n",
       "    </tr>\n",
       "  </tbody>\n",
       "</table>\n",
       "<p>16137 rows × 7 columns</p>\n",
       "</div>\n",
       "    <div class=\"colab-df-buttons\">\n",
       "\n",
       "  <div class=\"colab-df-container\">\n",
       "    <button class=\"colab-df-convert\" onclick=\"convertToInteractive('df-b9db8852-e847-4ab0-9f54-3b80cd9fed46')\"\n",
       "            title=\"Convert this dataframe to an interactive table.\"\n",
       "            style=\"display:none;\">\n",
       "\n",
       "  <svg xmlns=\"http://www.w3.org/2000/svg\" height=\"24px\" viewBox=\"0 -960 960 960\">\n",
       "    <path d=\"M120-120v-720h720v720H120Zm60-500h600v-160H180v160Zm220 220h160v-160H400v160Zm0 220h160v-160H400v160ZM180-400h160v-160H180v160Zm440 0h160v-160H620v160ZM180-180h160v-160H180v160Zm440 0h160v-160H620v160Z\"/>\n",
       "  </svg>\n",
       "    </button>\n",
       "\n",
       "  <style>\n",
       "    .colab-df-container {\n",
       "      display:flex;\n",
       "      gap: 12px;\n",
       "    }\n",
       "\n",
       "    .colab-df-convert {\n",
       "      background-color: #E8F0FE;\n",
       "      border: none;\n",
       "      border-radius: 50%;\n",
       "      cursor: pointer;\n",
       "      display: none;\n",
       "      fill: #1967D2;\n",
       "      height: 32px;\n",
       "      padding: 0 0 0 0;\n",
       "      width: 32px;\n",
       "    }\n",
       "\n",
       "    .colab-df-convert:hover {\n",
       "      background-color: #E2EBFA;\n",
       "      box-shadow: 0px 1px 2px rgba(60, 64, 67, 0.3), 0px 1px 3px 1px rgba(60, 64, 67, 0.15);\n",
       "      fill: #174EA6;\n",
       "    }\n",
       "\n",
       "    .colab-df-buttons div {\n",
       "      margin-bottom: 4px;\n",
       "    }\n",
       "\n",
       "    [theme=dark] .colab-df-convert {\n",
       "      background-color: #3B4455;\n",
       "      fill: #D2E3FC;\n",
       "    }\n",
       "\n",
       "    [theme=dark] .colab-df-convert:hover {\n",
       "      background-color: #434B5C;\n",
       "      box-shadow: 0px 1px 3px 1px rgba(0, 0, 0, 0.15);\n",
       "      filter: drop-shadow(0px 1px 2px rgba(0, 0, 0, 0.3));\n",
       "      fill: #FFFFFF;\n",
       "    }\n",
       "  </style>\n",
       "\n",
       "    <script>\n",
       "      const buttonEl =\n",
       "        document.querySelector('#df-b9db8852-e847-4ab0-9f54-3b80cd9fed46 button.colab-df-convert');\n",
       "      buttonEl.style.display =\n",
       "        google.colab.kernel.accessAllowed ? 'block' : 'none';\n",
       "\n",
       "      async function convertToInteractive(key) {\n",
       "        const element = document.querySelector('#df-b9db8852-e847-4ab0-9f54-3b80cd9fed46');\n",
       "        const dataTable =\n",
       "          await google.colab.kernel.invokeFunction('convertToInteractive',\n",
       "                                                    [key], {});\n",
       "        if (!dataTable) return;\n",
       "\n",
       "        const docLinkHtml = 'Like what you see? Visit the ' +\n",
       "          '<a target=\"_blank\" href=https://colab.research.google.com/notebooks/data_table.ipynb>data table notebook</a>'\n",
       "          + ' to learn more about interactive tables.';\n",
       "        element.innerHTML = '';\n",
       "        dataTable['output_type'] = 'display_data';\n",
       "        await google.colab.output.renderOutput(dataTable, element);\n",
       "        const docLink = document.createElement('div');\n",
       "        docLink.innerHTML = docLinkHtml;\n",
       "        element.appendChild(docLink);\n",
       "      }\n",
       "    </script>\n",
       "  </div>\n",
       "\n",
       "\n",
       "<div id=\"df-50167fd5-871f-40ec-949c-396a86ca9328\">\n",
       "  <button class=\"colab-df-quickchart\" onclick=\"quickchart('df-50167fd5-871f-40ec-949c-396a86ca9328')\"\n",
       "            title=\"Suggest charts\"\n",
       "            style=\"display:none;\">\n",
       "\n",
       "<svg xmlns=\"http://www.w3.org/2000/svg\" height=\"24px\"viewBox=\"0 0 24 24\"\n",
       "     width=\"24px\">\n",
       "    <g>\n",
       "        <path d=\"M19 3H5c-1.1 0-2 .9-2 2v14c0 1.1.9 2 2 2h14c1.1 0 2-.9 2-2V5c0-1.1-.9-2-2-2zM9 17H7v-7h2v7zm4 0h-2V7h2v10zm4 0h-2v-4h2v4z\"/>\n",
       "    </g>\n",
       "</svg>\n",
       "  </button>\n",
       "\n",
       "<style>\n",
       "  .colab-df-quickchart {\n",
       "      --bg-color: #E8F0FE;\n",
       "      --fill-color: #1967D2;\n",
       "      --hover-bg-color: #E2EBFA;\n",
       "      --hover-fill-color: #174EA6;\n",
       "      --disabled-fill-color: #AAA;\n",
       "      --disabled-bg-color: #DDD;\n",
       "  }\n",
       "\n",
       "  [theme=dark] .colab-df-quickchart {\n",
       "      --bg-color: #3B4455;\n",
       "      --fill-color: #D2E3FC;\n",
       "      --hover-bg-color: #434B5C;\n",
       "      --hover-fill-color: #FFFFFF;\n",
       "      --disabled-bg-color: #3B4455;\n",
       "      --disabled-fill-color: #666;\n",
       "  }\n",
       "\n",
       "  .colab-df-quickchart {\n",
       "    background-color: var(--bg-color);\n",
       "    border: none;\n",
       "    border-radius: 50%;\n",
       "    cursor: pointer;\n",
       "    display: none;\n",
       "    fill: var(--fill-color);\n",
       "    height: 32px;\n",
       "    padding: 0;\n",
       "    width: 32px;\n",
       "  }\n",
       "\n",
       "  .colab-df-quickchart:hover {\n",
       "    background-color: var(--hover-bg-color);\n",
       "    box-shadow: 0 1px 2px rgba(60, 64, 67, 0.3), 0 1px 3px 1px rgba(60, 64, 67, 0.15);\n",
       "    fill: var(--button-hover-fill-color);\n",
       "  }\n",
       "\n",
       "  .colab-df-quickchart-complete:disabled,\n",
       "  .colab-df-quickchart-complete:disabled:hover {\n",
       "    background-color: var(--disabled-bg-color);\n",
       "    fill: var(--disabled-fill-color);\n",
       "    box-shadow: none;\n",
       "  }\n",
       "\n",
       "  .colab-df-spinner {\n",
       "    border: 2px solid var(--fill-color);\n",
       "    border-color: transparent;\n",
       "    border-bottom-color: var(--fill-color);\n",
       "    animation:\n",
       "      spin 1s steps(1) infinite;\n",
       "  }\n",
       "\n",
       "  @keyframes spin {\n",
       "    0% {\n",
       "      border-color: transparent;\n",
       "      border-bottom-color: var(--fill-color);\n",
       "      border-left-color: var(--fill-color);\n",
       "    }\n",
       "    20% {\n",
       "      border-color: transparent;\n",
       "      border-left-color: var(--fill-color);\n",
       "      border-top-color: var(--fill-color);\n",
       "    }\n",
       "    30% {\n",
       "      border-color: transparent;\n",
       "      border-left-color: var(--fill-color);\n",
       "      border-top-color: var(--fill-color);\n",
       "      border-right-color: var(--fill-color);\n",
       "    }\n",
       "    40% {\n",
       "      border-color: transparent;\n",
       "      border-right-color: var(--fill-color);\n",
       "      border-top-color: var(--fill-color);\n",
       "    }\n",
       "    60% {\n",
       "      border-color: transparent;\n",
       "      border-right-color: var(--fill-color);\n",
       "    }\n",
       "    80% {\n",
       "      border-color: transparent;\n",
       "      border-right-color: var(--fill-color);\n",
       "      border-bottom-color: var(--fill-color);\n",
       "    }\n",
       "    90% {\n",
       "      border-color: transparent;\n",
       "      border-bottom-color: var(--fill-color);\n",
       "    }\n",
       "  }\n",
       "</style>\n",
       "\n",
       "  <script>\n",
       "    async function quickchart(key) {\n",
       "      const quickchartButtonEl =\n",
       "        document.querySelector('#' + key + ' button');\n",
       "      quickchartButtonEl.disabled = true;  // To prevent multiple clicks.\n",
       "      quickchartButtonEl.classList.add('colab-df-spinner');\n",
       "      try {\n",
       "        const charts = await google.colab.kernel.invokeFunction(\n",
       "            'suggestCharts', [key], {});\n",
       "      } catch (error) {\n",
       "        console.error('Error during call to suggestCharts:', error);\n",
       "      }\n",
       "      quickchartButtonEl.classList.remove('colab-df-spinner');\n",
       "      quickchartButtonEl.classList.add('colab-df-quickchart-complete');\n",
       "    }\n",
       "    (() => {\n",
       "      let quickchartButtonEl =\n",
       "        document.querySelector('#df-50167fd5-871f-40ec-949c-396a86ca9328 button');\n",
       "      quickchartButtonEl.style.display =\n",
       "        google.colab.kernel.accessAllowed ? 'block' : 'none';\n",
       "    })();\n",
       "  </script>\n",
       "</div>\n",
       "\n",
       "  <div id=\"id_212c1a55-e041-4118-a2cb-5b41b47ebd86\">\n",
       "    <style>\n",
       "      .colab-df-generate {\n",
       "        background-color: #E8F0FE;\n",
       "        border: none;\n",
       "        border-radius: 50%;\n",
       "        cursor: pointer;\n",
       "        display: none;\n",
       "        fill: #1967D2;\n",
       "        height: 32px;\n",
       "        padding: 0 0 0 0;\n",
       "        width: 32px;\n",
       "      }\n",
       "\n",
       "      .colab-df-generate:hover {\n",
       "        background-color: #E2EBFA;\n",
       "        box-shadow: 0px 1px 2px rgba(60, 64, 67, 0.3), 0px 1px 3px 1px rgba(60, 64, 67, 0.15);\n",
       "        fill: #174EA6;\n",
       "      }\n",
       "\n",
       "      [theme=dark] .colab-df-generate {\n",
       "        background-color: #3B4455;\n",
       "        fill: #D2E3FC;\n",
       "      }\n",
       "\n",
       "      [theme=dark] .colab-df-generate:hover {\n",
       "        background-color: #434B5C;\n",
       "        box-shadow: 0px 1px 3px 1px rgba(0, 0, 0, 0.15);\n",
       "        filter: drop-shadow(0px 1px 2px rgba(0, 0, 0, 0.3));\n",
       "        fill: #FFFFFF;\n",
       "      }\n",
       "    </style>\n",
       "    <button class=\"colab-df-generate\" onclick=\"generateWithVariable('train_data')\"\n",
       "            title=\"Generate code using this dataframe.\"\n",
       "            style=\"display:none;\">\n",
       "\n",
       "  <svg xmlns=\"http://www.w3.org/2000/svg\" height=\"24px\"viewBox=\"0 0 24 24\"\n",
       "       width=\"24px\">\n",
       "    <path d=\"M7,19H8.4L18.45,9,17,7.55,7,17.6ZM5,21V16.75L18.45,3.32a2,2,0,0,1,2.83,0l1.4,1.43a1.91,1.91,0,0,1,.58,1.4,1.91,1.91,0,0,1-.58,1.4L9.25,21ZM18.45,9,17,7.55Zm-12,3A5.31,5.31,0,0,0,4.9,8.1,5.31,5.31,0,0,0,1,6.5,5.31,5.31,0,0,0,4.9,4.9,5.31,5.31,0,0,0,6.5,1,5.31,5.31,0,0,0,8.1,4.9,5.31,5.31,0,0,0,12,6.5,5.46,5.46,0,0,0,6.5,12Z\"/>\n",
       "  </svg>\n",
       "    </button>\n",
       "    <script>\n",
       "      (() => {\n",
       "      const buttonEl =\n",
       "        document.querySelector('#id_212c1a55-e041-4118-a2cb-5b41b47ebd86 button.colab-df-generate');\n",
       "      buttonEl.style.display =\n",
       "        google.colab.kernel.accessAllowed ? 'block' : 'none';\n",
       "\n",
       "      buttonEl.onclick = () => {\n",
       "        google.colab.notebook.generateWithVariable('train_data');\n",
       "      }\n",
       "      })();\n",
       "    </script>\n",
       "  </div>\n",
       "\n",
       "    </div>\n",
       "  </div>\n"
      ],
      "text/plain": [
       "      Drug1_ID   Drug2_ID  Cell_Line_ID          Y  \\\n",
       "0         5-FU    ABT-888         A2058   7.693530   \n",
       "1         5-FU    ABT-888         A2780   7.778053   \n",
       "2         5-FU    ABT-888          A375  -1.198505   \n",
       "3         5-FU    ABT-888         CAOV3  -5.139971   \n",
       "4         5-FU    ABT-888          DLD1   1.935127   \n",
       "...        ...        ...           ...        ...   \n",
       "16132  ZOLINZA  TOPOTECAN          T47D  18.985100   \n",
       "16133  ZOLINZA  TOPOTECAN        UACC62  10.223066   \n",
       "16134  ZOLINZA  TOPOTECAN  UWB1289BRCA1  20.551627   \n",
       "16135  ZOLINZA  TOPOTECAN       UWB1289  12.190316   \n",
       "16136  ZOLINZA  TOPOTECAN         ZR751  12.223791   \n",
       "\n",
       "                                               Cell_Line  \\\n",
       "0      [5.291146039856301, 5.040386719464342, 5.29114...   \n",
       "1      [5.291146039856301, 5.040386719464342, 5.29114...   \n",
       "2      [5.291146039856301, 5.040386719464342, 5.29114...   \n",
       "3      [5.291146039856301, 5.040386719464342, 5.29114...   \n",
       "4      [5.291146039856301, 5.040386719464342, 5.29114...   \n",
       "...                                                  ...   \n",
       "16132  [-0.18899497244411118, -0.19839747536407973, -...   \n",
       "16133  [-0.18899497244411118, -0.19839747536407973, -...   \n",
       "16134  [-0.18899497244411118, -0.19839747536407973, -...   \n",
       "16135  [-0.18899497244411118, -0.19839747536407973, -...   \n",
       "16136  [-0.18899497244411118, -0.19839747536407973, -...   \n",
       "\n",
       "                             Drug1  \\\n",
       "0          O=c1[nH]cc(F)c(=O)[nH]1   \n",
       "1          O=c1[nH]cc(F)c(=O)[nH]1   \n",
       "2          O=c1[nH]cc(F)c(=O)[nH]1   \n",
       "3          O=c1[nH]cc(F)c(=O)[nH]1   \n",
       "4          O=c1[nH]cc(F)c(=O)[nH]1   \n",
       "...                            ...   \n",
       "16132  O=C(CCCCCCC(=O)Nc1ccccc1)NO   \n",
       "16133  O=C(CCCCCCC(=O)Nc1ccccc1)NO   \n",
       "16134  O=C(CCCCCCC(=O)Nc1ccccc1)NO   \n",
       "16135  O=C(CCCCCCC(=O)Nc1ccccc1)NO   \n",
       "16136  O=C(CCCCCCC(=O)Nc1ccccc1)NO   \n",
       "\n",
       "                                                   Drug2  \n",
       "0                     CC1(c2nc3c(C(N)=O)cccc3[nH]2)CCCN1  \n",
       "1                     CC1(c2nc3c(C(N)=O)cccc3[nH]2)CCCN1  \n",
       "2                     CC1(c2nc3c(C(N)=O)cccc3[nH]2)CCCN1  \n",
       "3                     CC1(c2nc3c(C(N)=O)cccc3[nH]2)CCCN1  \n",
       "4                     CC1(c2nc3c(C(N)=O)cccc3[nH]2)CCCN1  \n",
       "...                                                  ...  \n",
       "16132  CCC1(O)C(=O)OCc2c1cc1n(c2=O)Cc2cc3c(CN(C)C)c(O...  \n",
       "16133  CCC1(O)C(=O)OCc2c1cc1n(c2=O)Cc2cc3c(CN(C)C)c(O...  \n",
       "16134  CCC1(O)C(=O)OCc2c1cc1n(c2=O)Cc2cc3c(CN(C)C)c(O...  \n",
       "16135  CCC1(O)C(=O)OCc2c1cc1n(c2=O)Cc2cc3c(CN(C)C)c(O...  \n",
       "16136  CCC1(O)C(=O)OCc2c1cc1n(c2=O)Cc2cc3c(CN(C)C)c(O...  \n",
       "\n",
       "[16137 rows x 7 columns]"
      ]
     },
     "execution_count": 19,
     "metadata": {},
     "output_type": "execute_result"
    }
   ],
   "source": [
    "train_data = split['train']\n",
    "train_data"
   ]
  },
  {
   "cell_type": "code",
   "execution_count": 20,
   "metadata": {
    "executionInfo": {
     "elapsed": 9,
     "status": "ok",
     "timestamp": 1740675448347,
     "user": {
      "displayName": "sofia fb",
      "userId": "02081027144009403775"
     },
     "user_tz": -60
    },
    "id": "_sNsy_muUTNZ"
   },
   "outputs": [],
   "source": [
    " # Filter for the desired Cell_Line_IDs\n",
    "filtered_data = train_data[train_data['Cell_Line_ID'].isin(['SHSY5Y', 'ND30625'])] ##las lineas celulares de andrea :(\n"
   ]
  },
  {
   "cell_type": "code",
   "execution_count": 22,
   "metadata": {
    "executionInfo": {
     "elapsed": 4,
     "status": "ok",
     "timestamp": 1740675507666,
     "user": {
      "displayName": "sofia fb",
      "userId": "02081027144009403775"
     },
     "user_tz": -60
    },
    "id": "coL7KA33Utdi"
   },
   "outputs": [],
   "source": [
    "# Get unique values from the 'Cell_Line_ID' column\n",
    "unique_cell_lines = train_data['Cell_Line_ID'].unique()"
   ]
  },
  {
   "cell_type": "code",
   "execution_count": 25,
   "metadata": {
    "colab": {
     "base_uri": "https://localhost:8080/"
    },
    "executionInfo": {
     "elapsed": 11,
     "status": "ok",
     "timestamp": 1740675533856,
     "user": {
      "displayName": "sofia fb",
      "userId": "02081027144009403775"
     },
     "user_tz": -60
    },
    "id": "W3rJi6feV4_z",
    "outputId": "e0ef88fb-3e0d-451d-cf82-77267c1eaa59"
   },
   "outputs": [
    {
     "data": {
      "text/plain": [
       "39"
      ]
     },
     "execution_count": 25,
     "metadata": {},
     "output_type": "execute_result"
    }
   ],
   "source": [
    "len(unique_cell_lines)"
   ]
  },
  {
   "cell_type": "code",
   "execution_count": 26,
   "metadata": {
    "colab": {
     "base_uri": "https://localhost:8080/"
    },
    "executionInfo": {
     "elapsed": 11,
     "status": "ok",
     "timestamp": 1740675539824,
     "user": {
      "displayName": "sofia fb",
      "userId": "02081027144009403775"
     },
     "user_tz": -60
    },
    "id": "IEDg8R89WHpw",
    "outputId": "6d34252d-6768-40bb-c8a8-8854a4ed6c3a"
   },
   "outputs": [
    {
     "data": {
      "text/plain": [
       "array(['A2058', 'A2780', 'A375', 'CAOV3', 'DLD1', 'ES2', 'HCT116',\n",
       "       'HT144', 'HT29', 'KPL1', 'LNCAP', 'LOVO', 'MDAMB436', 'MSTO',\n",
       "       'NCIH2122', 'NCIH23', 'NCIH460', 'NCIH520', 'OCUBM', 'OV90', 'RKO',\n",
       "       'RPMI7951', 'SKMEL30', 'SKMES1', 'SW837', 'T47D', 'UWB1289',\n",
       "       'ZR751', 'NCIH1650', 'OVCAR3', 'PA1', 'SKOV3', 'SW620', 'UACC62',\n",
       "       'UWB1289BRCA1', 'A427', 'COLO320DM', 'EFM192B', 'VCAP'],\n",
       "      dtype=object)"
      ]
     },
     "execution_count": 26,
     "metadata": {},
     "output_type": "execute_result"
    }
   ],
   "source": [
    "unique_cell_lines"
   ]
  },
  {
   "cell_type": "code",
   "execution_count": null,
   "metadata": {
    "id": "eIGMCqmQWOJI"
   },
   "outputs": [],
   "source": []
  }
 ],
 "metadata": {
  "colab": {
   "authorship_tag": "ABX9TyOIz0REr7f9iJ3yIX3xuCM2",
   "provenance": []
  },
  "kernelspec": {
   "display_name": "Python 3 (ipykernel)",
   "language": "python",
   "name": "python3"
  },
  "language_info": {
   "codemirror_mode": {
    "name": "ipython",
    "version": 3
   },
   "file_extension": ".py",
   "mimetype": "text/x-python",
   "name": "python",
   "nbconvert_exporter": "python",
   "pygments_lexer": "ipython3",
   "version": "3.9.21"
  }
 },
 "nbformat": 4,
 "nbformat_minor": 4
}
