{
 "cells": [
  {
   "cell_type": "markdown",
   "id": "149ee3d2-7d01-499d-af92-1729616beaa4",
   "metadata": {},
   "source": [
    "im a coping this notebook https://github.com/evasnow1992/DeepGenerativeModelLINCS/blob/master/deep_generative_model_LINCS.ipynb"
   ]
  },
  {
   "cell_type": "code",
   "execution_count": 1,
   "id": "95a1d221-c2d9-4a45-9dd3-e16329de0976",
   "metadata": {},
   "outputs": [
    {
     "name": "stderr",
     "output_type": "stream",
     "text": [
      "C:\\Users\\Usuario\\AppData\\Local\\Temp\\ipykernel_24524\\2811086252.py:4: DeprecationWarning: pkg_resources is deprecated as an API. See https://setuptools.pypa.io/en/latest/pkg_resources.html\n",
      "  import pkg_resources\n"
     ]
    }
   ],
   "source": [
    "import pandas as pd\n",
    "import gzip, shutil\n",
    "import os\n",
    "import pkg_resources\n",
    "\n",
    "from cmapPy.pandasGEXpress.parse import parse"
   ]
  },
  {
   "cell_type": "markdown",
   "id": "af86a5d6-7e28-4dd0-9440-564059000388",
   "metadata": {},
   "source": [
    "## Load GSE70138 small molecular perturbation L1000 data"
   ]
  },
  {
   "cell_type": "code",
   "execution_count": 2,
   "id": "b39355e5-5022-4e2e-8f05-0135f5c26f23",
   "metadata": {},
   "outputs": [],
   "source": [
    "import pandas as pd\n",
    "import gzip\n",
    "\n",
    "# gene info \n",
    "file_path = r\"C:\\Users\\Usuario\\Desktop\\TFM\\datos\\CLUE_data\\CMAPS\\GSE70138_Broad_LINCS_gene_info_2017-03-06.txt.gz\"\n",
    "with gzip.open(file_path, 'rt') as f:\n",
    "    gene_info = pd.read_csv(f, sep='\\t')\n",
    "\n",
    "# cell info \n",
    "file_path = r\"C:\\Users\\Usuario\\Desktop\\TFM\\datos\\CLUE_data\\CMAPS\\GSE70138_Broad_LINCS_cell_info_2017-04-28.txt.gz\"\n",
    "with gzip.open(file_path, 'rt') as f:\n",
    "    cell_info = pd.read_csv(f, sep='\\t')\n",
    "\n",
    "# pert info \n",
    "file_path = r\"C:\\Users\\Usuario\\Desktop\\TFM\\datos\\CLUE_data\\CMAPS\\GSE70138_Broad_LINCS_pert_info.txt.gz\"\n",
    "with gzip.open(file_path, 'rt') as f:\n",
    "    pert_info = pd.read_csv(f, sep='\\t')\n",
    "\n",
    "# inst info \n",
    "file_path = r\"C:\\Users\\Usuario\\Desktop\\TFM\\datos\\CLUE_data\\CMAPS\\GSE70138_Broad_LINCS_inst_info_2017-03-06.txt.gz\"\n",
    "with gzip.open(file_path, 'rt') as f:\n",
    "    inst_info = pd.read_csv(f, sep='\\t')\n",
    "\n",
    "# sig info \n",
    "file_path = r\"C:\\Users\\Usuario\\Desktop\\TFM\\datos\\CLUE_data\\CMAPS\\GSE70138_Broad_LINCS_sig_info_2017-03-06.txt.gz\"\n",
    "with gzip.open(file_path, 'rt') as f:\n",
    "    sig_info = pd.read_csv(f, sep='\\t')\n",
    "\n",
    "# sig metrics \n",
    "file_path = r\"C:\\Users\\Usuario\\Desktop\\TFM\\datos\\CLUE_data\\CMAPS\\GSE70138_Broad_LINCS_sig_metrics_2017-03-06.txt.gz\"\n",
    "with gzip.open(file_path, 'rt') as f:\n",
    "    sig_metrics = pd.read_csv(f, sep='\\t')"
   ]
  },
  {
   "cell_type": "markdown",
   "id": "dfd5e77d-9e9b-445e-828e-aeb3b1ff284d",
   "metadata": {},
   "source": [
    "### Load signature metadata"
   ]
  },
  {
   "cell_type": "code",
   "execution_count": 3,
   "id": "d00fecf8-2cb6-4d6f-961f-b7eed50f60c7",
   "metadata": {},
   "outputs": [],
   "source": [
    "cellLineNameSM = set([\"A375\", \"HA1E\", \"HELA\", \"HT29\", \"MCF7\", \"PC3\", \"YAPC\"])\n",
    "cellLineNameGP = set([\"A375\", \"A549\", \"HA1E\", \"HCC515\", \"HEPG2\", \"HT29\", \"MCF7\", \"PC3\", \"VCAP\"])"
   ]
  },
  {
   "cell_type": "code",
   "execution_count": 10,
   "id": "b778f9bc-f900-49a0-afb7-84a4201ded2f",
   "metadata": {},
   "outputs": [
    {
     "name": "stdout",
     "output_type": "stream",
     "text": [
      "(118050, 8)\n",
      "(85183, 8)\n"
     ]
    }
   ],
   "source": [
    "sigInfoSM = sig_info\n",
    "cellLineInfoSM = sigInfoSM[sigInfoSM[\"cell_id\"].isin(cellLineNameSM)]\n",
    "cellLineSigSM = cellLineInfoSM[\"sig_id\"]\n",
    "cellLinePertSM = cellLineInfoSM[\"pert_id\"]\n",
    "cellLinePertTypeSM = cellLineInfoSM[\"pert_type\"]\n",
    "print(sigInfoSM.shape)\n",
    "print(cellLineInfoSM.shape)\n"
   ]
  },
  {
   "cell_type": "code",
   "execution_count": 11,
   "id": "ad3900df-354a-43be-8258-0cbe52fdf3b6",
   "metadata": {},
   "outputs": [
    {
     "name": "stdout",
     "output_type": "stream",
     "text": [
      "The number of perturbagens: 1797\n"
     ]
    }
   ],
   "source": [
    "pertDicSM = {}\n",
    "pertArraySM = cellLinePertSM.values\n",
    "for i in range(len(pertArraySM)):\n",
    "    pertSM = pertArraySM[i]\n",
    "    c = pertDicSM.setdefault(pertSM, 0)\n",
    "    pertDicSM[pertSM] = c + 1\n",
    "print(\"The number of perturbagens: \" + str(len(pertDicSM)))"
   ]
  },
  {
   "cell_type": "markdown",
   "id": "d97a6c4f-96d2-4542-9f02-b6f738d81996",
   "metadata": {},
   "source": [
    "### Load gene information"
   ]
  },
  {
   "cell_type": "code",
   "execution_count": 12,
   "id": "9da0aa6a-b249-4915-b8f2-a66b5c02a164",
   "metadata": {},
   "outputs": [
    {
     "name": "stdout",
     "output_type": "stream",
     "text": [
      "(12328, 5)\n",
      "(978,)\n"
     ]
    }
   ],
   "source": [
    "geneInfoSM = gene_info\n",
    "lmInfoSM = geneInfoSM[\"pr_gene_id\"][geneInfoSM[\"pr_is_lm\"] == 1].astype(str) # landmark genes only #OJJJJOOOO\n",
    "print(geneInfoSM.shape)\n",
    "print(lmInfoSM.shape)"
   ]
  },
  {
   "cell_type": "code",
   "execution_count": 13,
   "id": "d5e79e66-921c-4f46-9b54-1a2ce36580f8",
   "metadata": {},
   "outputs": [
    {
     "data": {
      "text/plain": [
       "0          780\n",
       "1         7849\n",
       "25        6193\n",
       "43          23\n",
       "49        9552\n",
       "         ...  \n",
       "12184     5467\n",
       "12223     2767\n",
       "12224    23038\n",
       "12286    57048\n",
       "12321    79716\n",
       "Name: pr_gene_id, Length: 978, dtype: object"
      ]
     },
     "execution_count": 13,
     "metadata": {},
     "output_type": "execute_result"
    }
   ],
   "source": [
    "lmInfoSM"
   ]
  },
  {
   "cell_type": "markdown",
   "id": "d1b89d54-c0d6-49be-a059-ebd73d850c6c",
   "metadata": {},
   "source": [
    "### Load perturbagen class (PCL) information"
   ]
  },
  {
   "cell_type": "markdown",
   "id": "d18ef674-3705-4d7e-955b-2cc10da6fe50",
   "metadata": {},
   "source": [
    "esto no lo tengo si que  voy a subir el pretraineado con SMP porque esta hecho con las drugs "
   ]
  },
  {
   "cell_type": "markdown",
   "id": "12866ed1-f84a-48f4-afc2-128d31aea314",
   "metadata": {},
   "source": [
    "# Subimos el modelo pretraineado para SMP (small molleculues and drugs)"
   ]
  },
  {
   "cell_type": "code",
   "execution_count": 2,
   "id": "b72d268a-eddc-430d-b89e-22bd18e0fb9a",
   "metadata": {},
   "outputs": [
    {
     "name": "stdout",
     "output_type": "stream",
     "text": [
      "Requirement already satisfied: torch in c:\\users\\usuario\\anaconda3\\envs\\myenv\\lib\\site-packages (2.6.0)\n",
      "Requirement already satisfied: filelock in c:\\users\\usuario\\anaconda3\\envs\\myenv\\lib\\site-packages (from torch) (3.18.0)\n",
      "Requirement already satisfied: typing-extensions>=4.10.0 in c:\\users\\usuario\\anaconda3\\envs\\myenv\\lib\\site-packages (from torch) (4.12.2)\n",
      "Requirement already satisfied: networkx in c:\\users\\usuario\\anaconda3\\envs\\myenv\\lib\\site-packages (from torch) (3.2.1)\n",
      "Requirement already satisfied: jinja2 in c:\\users\\usuario\\anaconda3\\envs\\myenv\\lib\\site-packages (from torch) (3.1.5)\n",
      "Requirement already satisfied: fsspec in c:\\users\\usuario\\anaconda3\\envs\\myenv\\lib\\site-packages (from torch) (2025.3.2)\n",
      "Requirement already satisfied: sympy==1.13.1 in c:\\users\\usuario\\anaconda3\\envs\\myenv\\lib\\site-packages (from torch) (1.13.1)\n",
      "Requirement already satisfied: mpmath<1.4,>=1.1.0 in c:\\users\\usuario\\anaconda3\\envs\\myenv\\lib\\site-packages (from sympy==1.13.1->torch) (1.3.0)\n",
      "Requirement already satisfied: MarkupSafe>=2.0 in c:\\users\\usuario\\anaconda3\\envs\\myenv\\lib\\site-packages (from jinja2->torch) (3.0.2)\n"
     ]
    }
   ],
   "source": [
    "#!pip uninstall torch\n",
    "!pip install torch "
   ]
  },
  {
   "cell_type": "code",
   "execution_count": 3,
   "id": "257b4dd7-36f6-4bd8-84be-a8ee3f560055",
   "metadata": {},
   "outputs": [
    {
     "ename": "ModuleNotFoundError",
     "evalue": "No module named 'torch._C'",
     "output_type": "error",
     "traceback": [
      "\u001b[1;31m---------------------------------------------------------------------------\u001b[0m",
      "\u001b[1;31mModuleNotFoundError\u001b[0m                       Traceback (most recent call last)",
      "Cell \u001b[1;32mIn[3], line 2\u001b[0m\n\u001b[0;32m      1\u001b[0m \u001b[38;5;28;01mimport\u001b[39;00m \u001b[38;5;21;01mtorch\u001b[39;00m\n\u001b[1;32m----> 2\u001b[0m \u001b[38;5;28;01mfrom\u001b[39;00m \u001b[38;5;21;01mtorch\u001b[39;00m \u001b[38;5;28;01mimport\u001b[39;00m nn\n\u001b[0;32m      3\u001b[0m \u001b[38;5;28;01mfrom\u001b[39;00m \u001b[38;5;21;01mtorch\u001b[39;00m\u001b[38;5;21;01m.\u001b[39;00m\u001b[38;5;21;01mautograd\u001b[39;00m \u001b[38;5;28;01mimport\u001b[39;00m Variable\n\u001b[0;32m      5\u001b[0m \u001b[38;5;66;03m# Load model components\u001b[39;00m\n",
      "File \u001b[1;32m~\\anaconda3\\envs\\myenv\\lib\\site-packages\\torch\\nn\\__init__.py:2\u001b[0m\n\u001b[0;32m      1\u001b[0m \u001b[38;5;66;03m# mypy: allow-untyped-defs\u001b[39;00m\n\u001b[1;32m----> 2\u001b[0m \u001b[38;5;28;01mfrom\u001b[39;00m \u001b[38;5;21;01mtorch\u001b[39;00m\u001b[38;5;21;01m.\u001b[39;00m\u001b[38;5;21;01mnn\u001b[39;00m\u001b[38;5;21;01m.\u001b[39;00m\u001b[38;5;21;01mparameter\u001b[39;00m \u001b[38;5;28;01mimport\u001b[39;00m (  \u001b[38;5;66;03m# usort: skip\u001b[39;00m\n\u001b[0;32m      3\u001b[0m     Buffer \u001b[38;5;28;01mas\u001b[39;00m Buffer,\n\u001b[0;32m      4\u001b[0m     Parameter \u001b[38;5;28;01mas\u001b[39;00m Parameter,\n\u001b[0;32m      5\u001b[0m     UninitializedBuffer \u001b[38;5;28;01mas\u001b[39;00m UninitializedBuffer,\n\u001b[0;32m      6\u001b[0m     UninitializedParameter \u001b[38;5;28;01mas\u001b[39;00m UninitializedParameter,\n\u001b[0;32m      7\u001b[0m )\n\u001b[0;32m      8\u001b[0m \u001b[38;5;28;01mfrom\u001b[39;00m \u001b[38;5;21;01mtorch\u001b[39;00m\u001b[38;5;21;01m.\u001b[39;00m\u001b[38;5;21;01mnn\u001b[39;00m\u001b[38;5;21;01m.\u001b[39;00m\u001b[38;5;21;01mmodules\u001b[39;00m \u001b[38;5;28;01mimport\u001b[39;00m \u001b[38;5;241m*\u001b[39m  \u001b[38;5;66;03m# usort: skip # noqa: F403\u001b[39;00m\n\u001b[0;32m      9\u001b[0m \u001b[38;5;28;01mfrom\u001b[39;00m \u001b[38;5;21;01mtorch\u001b[39;00m\u001b[38;5;21;01m.\u001b[39;00m\u001b[38;5;21;01mnn\u001b[39;00m \u001b[38;5;28;01mimport\u001b[39;00m (\n\u001b[0;32m     10\u001b[0m     attention \u001b[38;5;28;01mas\u001b[39;00m attention,\n\u001b[0;32m     11\u001b[0m     functional \u001b[38;5;28;01mas\u001b[39;00m functional,\n\u001b[1;32m   (...)\u001b[0m\n\u001b[0;32m     16\u001b[0m     utils \u001b[38;5;28;01mas\u001b[39;00m utils,\n\u001b[0;32m     17\u001b[0m )\n",
      "File \u001b[1;32m~\\anaconda3\\envs\\myenv\\lib\\site-packages\\torch\\nn\\parameter.py:4\u001b[0m\n\u001b[0;32m      1\u001b[0m \u001b[38;5;28;01mfrom\u001b[39;00m \u001b[38;5;21;01mcollections\u001b[39;00m \u001b[38;5;28;01mimport\u001b[39;00m OrderedDict\n\u001b[0;32m      3\u001b[0m \u001b[38;5;28;01mimport\u001b[39;00m \u001b[38;5;21;01mtorch\u001b[39;00m\n\u001b[1;32m----> 4\u001b[0m \u001b[38;5;28;01mfrom\u001b[39;00m \u001b[38;5;21;01mtorch\u001b[39;00m\u001b[38;5;21;01m.\u001b[39;00m\u001b[38;5;21;01m_C\u001b[39;00m \u001b[38;5;28;01mimport\u001b[39;00m _disabled_torch_function_impl\n\u001b[0;32m      7\u001b[0m \u001b[38;5;66;03m# Metaclass to combine _TensorMeta and the instance check override for Parameter.\u001b[39;00m\n\u001b[0;32m      8\u001b[0m \u001b[38;5;28;01mclass\u001b[39;00m \u001b[38;5;21;01m_ParameterMeta\u001b[39;00m(torch\u001b[38;5;241m.\u001b[39m_C\u001b[38;5;241m.\u001b[39m_TensorMeta):\n\u001b[0;32m      9\u001b[0m     \u001b[38;5;66;03m# Make `isinstance(t, Parameter)` return True for custom tensor instances that have the _is_param flag.\u001b[39;00m\n",
      "\u001b[1;31mModuleNotFoundError\u001b[0m: No module named 'torch._C'"
     ]
    }
   ],
   "source": [
    "import torch\n",
    "from torch import nn\n",
    "from torch.autograd import Variable\n",
    "\n",
    "# Load model components\n",
    "encoder = torch.load(r'C:\\Users\\Usuario\\Desktop\\TFM\\datos\\VAE\\VAE_encode_SMP.pth')\n",
    "mu_layer = torch.load(r'C:\\Users\\Usuario\\Desktop\\TFM\\datos\\VAE\\VAE_mu_SMP.pth')\n",
    "logvar_layer = torch.load(r'C:\\Users\\Usuario\\Desktop\\TFM\\datos\\VAE\\VAE_logvar_SMP.pth')\n",
    "\n"
   ]
  },
  {
   "cell_type": "code",
   "execution_count": null,
   "id": "c4caeb62-6dc4-4a2f-9196-2e1e38b829d0",
   "metadata": {},
   "outputs": [],
   "source": [
    "encoder.eval()\n",
    "mu_layer.eval()\n",
    "logvar_layer.eval()\n",
    "\n",
    "# Your input data (as a tensor, shape: [batch_size, 978])\n",
    "# Example: input_data = torch.tensor(my_gene_data).float()\n",
    "\n",
    "with torch.no_grad():\n",
    "    h1 = encoder[1](encoder[0](input_data))\n",
    "    h = encoder[3](encoder[2](h1))\n",
    "    mu = mu_layer(h)\n",
    "    logvar = logvar_layer(h)\n",
    "    std = torch.exp(0.5 * logvar)\n",
    "    eps = torch.randn_like(std)\n",
    "    z = eps * std + mu  # latent vector\n",
    "\n",
    "# Now z is your encoded latent vector\n"
   ]
  }
 ],
 "metadata": {
  "kernelspec": {
   "display_name": "Python 3 (ipykernel)",
   "language": "python",
   "name": "python3"
  },
  "language_info": {
   "codemirror_mode": {
    "name": "ipython",
    "version": 3
   },
   "file_extension": ".py",
   "mimetype": "text/x-python",
   "name": "python",
   "nbconvert_exporter": "python",
   "pygments_lexer": "ipython3",
   "version": "3.9.21"
  }
 },
 "nbformat": 4,
 "nbformat_minor": 5
}
