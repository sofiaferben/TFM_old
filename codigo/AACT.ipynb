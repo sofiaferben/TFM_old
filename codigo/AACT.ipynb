{
 "cells": [
  {
   "cell_type": "markdown",
   "id": "a3231d44-22cb-4ed5-a94b-7d98e41fd8fc",
   "metadata": {},
   "source": [
    "# AACT\n",
    "He descargao el esquema del 11/3/2025 \n",
    "https://aact.ctti-clinicaltrials.org/schema\n",
    "\n",
    "Informacion que quiero sacar por combinación de fármacos\n",
    "* enfermedad\n",
    "* Si está aceptado por la FDA"
   ]
  },
  {
   "cell_type": "code",
   "execution_count": 2,
   "id": "673e90d4-d0a7-44f8-96b1-ff903099ca5e",
   "metadata": {},
   "outputs": [
    {
     "name": "stdout",
     "output_type": "stream",
     "text": [
      "b\"PGDMP\\x01\\x0e\\x00\\x04\\x08\\x01\\x01\\x01\\x00\\x00\\x00\\x00\\x1b\\x00\\x00\\x00\\x00\\x1d\\x00\\x00\\x00\\x00\\x04\\x00\\x00\\x00\\x00\\x0b\\x00\\x00\\x00\\x00\\x02\\x00\\x00\\x00\\x00}\\x00\\x00\\x00\\x00\\x00\\x00\\x00\\x00\\x00\\x04\\x00\\x00\\x00aact\\x00\\x04\\x00\\x00\\x0014.3\\x00 \\x00\\x00\\x0014.17 (Debian 14.17-1.pgdg110+1)\\x00b\\x02\\x00\\x00\\x00\\xfa\\x12\\x00\\x00\\x00\\x00\\x00\\x00\\x00\\x00\\x01\\x00\\x00\\x000\\x00\\x01\\x00\\x00\\x000\\x00\\x08\\x00\\x00\\x00ENCODING\\x00\\x08\\x00\\x00\\x00ENCODING\\x00\\x02\\x00\\x00\\x00\\x00\\x1e\\x00\\x00\\x00SET client_encoding = 'UTF8';\\n\\x01\\x01\\x00\\x00\\x00\\x01\\x01\\x00\\x00\\x00\\x01\\x01\\x00\\x00\\x00\\x01\\x01\\x00\\x00\\x00\\x01\\x01\\x00\\x00\\x00\\x01\\x01\\x00\\x00\\x00\\x00\\x05\\x00\\x00\\x00false\\x01\\x01\\x00\\x00\\x00\\x03\\x00\\x00\\x00\\x00\\x00\\x00\\x00\\x00\\x00\\xfb\\x12\\x00\\x00\\x00\\x00\\x00\\x00\\x00\\x00\\x01\\x00\\x00\\x000\\x00\\x01\\x00\\x00\\x000\\x00\\n\\x00\\x00\\x00STDSTRINGS\\x00\\n\\x00\\x00\\x00STDSTRINGS\\x00\\x02\\x00\\x00\\x00\\x00(\\x00\\x00\\x00SET standard_conforming_strings = 'on';\\n\\x01\\x01\\x00\\x00\\x00\\x01\\x01\\x00\\x00\\x00\\x01\\x01\\x00\\x00\\x00\\x01\\x01\\x00\\x00\\x00\\x01\\x01\\x00\\x00\\x00\\x01\\x01\\x00\\x00\\x00\\x00\\x05\\x00\\x00\\x00false\\x01\\x01\\x00\\x00\\x00\\x03\\x00\\x00\\x00\\x00\\x00\\x00\\x00\\x00\\x00\\xfc\\x12\\x00\\x00\\x00\\x00\\x00\\x00\\x00\\x00\\x01\\x00\\x00\\x000\\x00\\x01\\x00\\x00\\x000\\x00\\n\\x00\\x00\\x00SEARCHPATH\\x00\\n\\x00\\x00\\x00SEARCHPATH\\x00\\x02\\x00\\x00\\x00\\x008\\x00\\x00\\x00SELECT pg_catalog.set_config('search_path\"\n"
     ]
    }
   ],
   "source": [
    "# Open the file in binary mode and read the first few bytes\n",
    "file_path = 'C:/Users/Usuario/Desktop/TFM/datos/aatc/postgres.dmp'\n",
    "\n",
    "with open(file_path, 'rb') as file:\n",
    "    header = file.read(512)\n",
    "    print(header)\n"
   ]
  },
  {
   "cell_type": "markdown",
   "id": "97db182b-5c52-445f-bf4f-19fa94042bbc",
   "metadata": {},
   "source": [
    "es de postgre"
   ]
  },
  {
   "cell_type": "code",
   "execution_count": 4,
   "id": "30aa3da0-77ed-4a1c-9f5a-7b9adfc86eee",
   "metadata": {},
   "outputs": [],
   "source": [
    "#!pip install pgdumplib"
   ]
  },
  {
   "cell_type": "code",
   "execution_count": null,
   "id": "0de83502-054e-495c-b459-57f1eaeae207",
   "metadata": {},
   "outputs": [],
   "source": [
    "import pgdumplib\n",
    "\n",
    "# Load the PostgreSQL dump file\n",
    "dump = pgdumplib.load('C:/Users/Usuario/Desktop/TFM/datos/aatc/postgres.dmp')\n",
    "\n",
    "# List all tables in the dump\n",
    "for table in dump.table_data:\n",
    "    print(table)\n",
    "\n"
   ]
  },
  {
   "cell_type": "code",
   "execution_count": null,
   "id": "710588d4-8bb3-4673-b61f-d34e4012d5aa",
   "metadata": {},
   "outputs": [],
   "source": [
    "# Extract and print data from a specific table\n",
    "for table_data in dump.table_data:\n",
    "    if table_data.name == 'your_table_name':\n",
    "        for row in table_data.data:\n",
    "            print(row)\n"
   ]
  },
  {
   "cell_type": "code",
   "execution_count": null,
   "id": "6982404f-b32c-4abf-9504-f14f49d9de31",
   "metadata": {},
   "outputs": [],
   "source": []
  }
 ],
 "metadata": {
  "kernelspec": {
   "display_name": "Python 3 (ipykernel)",
   "language": "python",
   "name": "python3"
  },
  "language_info": {
   "codemirror_mode": {
    "name": "ipython",
    "version": 3
   },
   "file_extension": ".py",
   "mimetype": "text/x-python",
   "name": "python",
   "nbconvert_exporter": "python",
   "pygments_lexer": "ipython3",
   "version": "3.9.21"
  }
 },
 "nbformat": 4,
 "nbformat_minor": 5
}
